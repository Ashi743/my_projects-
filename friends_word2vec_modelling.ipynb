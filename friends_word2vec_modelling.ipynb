{
  "metadata": {
    "kernelspec": {
      "language": "python",
      "display_name": "Python 3",
      "name": "python3"
    },
    "language_info": {
      "name": "python",
      "version": "3.10.14",
      "mimetype": "text/x-python",
      "codemirror_mode": {
        "name": "ipython",
        "version": 3
      },
      "pygments_lexer": "ipython3",
      "nbconvert_exporter": "python",
      "file_extension": ".py"
    },
    "kaggle": {
      "accelerator": "none",
      "dataSources": [
        {
          "sourceId": 1487503,
          "sourceType": "datasetVersion",
          "datasetId": 873061
        }
      ],
      "dockerImageVersionId": 30761,
      "isInternetEnabled": true,
      "language": "python",
      "sourceType": "notebook",
      "isGpuEnabled": false
    },
    "colab": {
      "name": "friends word2vec modelling",
      "provenance": [],
      "include_colab_link": true
    }
  },
  "nbformat_minor": 0,
  "nbformat": 4,
  "cells": [
    {
      "cell_type": "markdown",
      "metadata": {
        "id": "view-in-github",
        "colab_type": "text"
      },
      "source": [
        "<a href=\"https://colab.research.google.com/github/Ashi743/my_projects-/blob/main/friends_word2vec_modelling.ipynb\" target=\"_parent\"><img src=\"https://colab.research.google.com/assets/colab-badge.svg\" alt=\"Open In Colab\"/></a>"
      ]
    },
    {
      "source": [
        "\n",
        "# IMPORTANT: RUN THIS CELL IN ORDER TO IMPORT YOUR KAGGLE DATA SOURCES\n",
        "# TO THE CORRECT LOCATION (/kaggle/input) IN YOUR NOTEBOOK,\n",
        "# THEN FEEL FREE TO DELETE THIS CELL.\n",
        "# NOTE: THIS NOTEBOOK ENVIRONMENT DIFFERS FROM KAGGLE'S PYTHON\n",
        "# ENVIRONMENT SO THERE MAY BE MISSING LIBRARIES USED BY YOUR\n",
        "# NOTEBOOK.\n",
        "\n",
        "import os\n",
        "import sys\n",
        "from tempfile import NamedTemporaryFile\n",
        "from urllib.request import urlopen\n",
        "from urllib.parse import unquote, urlparse\n",
        "from urllib.error import HTTPError\n",
        "from zipfile import ZipFile\n",
        "import tarfile\n",
        "import shutil\n",
        "\n",
        "CHUNK_SIZE = 40960\n",
        "DATA_SOURCE_MAPPING = 'friends-tv-series-screenplay-script:https%3A%2F%2Fstorage.googleapis.com%2Fkaggle-data-sets%2F873061%2F1487503%2Fbundle%2Farchive.zip%3FX-Goog-Algorithm%3DGOOG4-RSA-SHA256%26X-Goog-Credential%3Dgcp-kaggle-com%2540kaggle-161607.iam.gserviceaccount.com%252F20240918%252Fauto%252Fstorage%252Fgoog4_request%26X-Goog-Date%3D20240918T133635Z%26X-Goog-Expires%3D259200%26X-Goog-SignedHeaders%3Dhost%26X-Goog-Signature%3D9b6ebfbe48ac3dacb08aa39696450461b92d1b58da81b1eb31bac9d5f95b4aad9af762772346d7671c664fc23c4d7fb323288b1520cfd6f4fe022dc97f564983609335cd4a57466d7c19e38970d14a5174b2c721bf8b60b0f56bac47825b686fd8ade141af61755efbcccfd8b9357cd82317f0f347b24473fcbc219908881b984259f4ab868920c191187ded3807a6195145ae4b3778cfb3558373dc0d49b413297a388bb09a2cf4572733c6ce263f1be0d7041e7bcc75f36ed066b5f5af6f1e43a067d6c580042435350c485ea69698e423d72b02c5eaa7b94707c38544022949dd72a142ad67ca827a673abd8998a20f1c4da79ad456639b443d9c16f480e5'\n",
        "\n",
        "KAGGLE_INPUT_PATH='/kaggle/input'\n",
        "KAGGLE_WORKING_PATH='/kaggle/working'\n",
        "KAGGLE_SYMLINK='kaggle'\n",
        "\n",
        "!umount /kaggle/input/ 2> /dev/null\n",
        "shutil.rmtree('/kaggle/input', ignore_errors=True)\n",
        "os.makedirs(KAGGLE_INPUT_PATH, 0o777, exist_ok=True)\n",
        "os.makedirs(KAGGLE_WORKING_PATH, 0o777, exist_ok=True)\n",
        "\n",
        "try:\n",
        "  os.symlink(KAGGLE_INPUT_PATH, os.path.join(\"..\", 'input'), target_is_directory=True)\n",
        "except FileExistsError:\n",
        "  pass\n",
        "try:\n",
        "  os.symlink(KAGGLE_WORKING_PATH, os.path.join(\"..\", 'working'), target_is_directory=True)\n",
        "except FileExistsError:\n",
        "  pass\n",
        "\n",
        "for data_source_mapping in DATA_SOURCE_MAPPING.split(','):\n",
        "    directory, download_url_encoded = data_source_mapping.split(':')\n",
        "    download_url = unquote(download_url_encoded)\n",
        "    filename = urlparse(download_url).path\n",
        "    destination_path = os.path.join(KAGGLE_INPUT_PATH, directory)\n",
        "    try:\n",
        "        with urlopen(download_url) as fileres, NamedTemporaryFile() as tfile:\n",
        "            total_length = fileres.headers['content-length']\n",
        "            print(f'Downloading {directory}, {total_length} bytes compressed')\n",
        "            dl = 0\n",
        "            data = fileres.read(CHUNK_SIZE)\n",
        "            while len(data) > 0:\n",
        "                dl += len(data)\n",
        "                tfile.write(data)\n",
        "                done = int(50 * dl / int(total_length))\n",
        "                sys.stdout.write(f\"\\r[{'=' * done}{' ' * (50-done)}] {dl} bytes downloaded\")\n",
        "                sys.stdout.flush()\n",
        "                data = fileres.read(CHUNK_SIZE)\n",
        "            if filename.endswith('.zip'):\n",
        "              with ZipFile(tfile) as zfile:\n",
        "                zfile.extractall(destination_path)\n",
        "            else:\n",
        "              with tarfile.open(tfile.name) as tarfile:\n",
        "                tarfile.extractall(destination_path)\n",
        "            print(f'\\nDownloaded and uncompressed: {directory}')\n",
        "    except HTTPError as e:\n",
        "        print(f'Failed to load (likely expired) {download_url} to path {destination_path}')\n",
        "        continue\n",
        "    except OSError as e:\n",
        "        print(f'Failed to load {download_url} to path {destination_path}')\n",
        "        continue\n",
        "\n",
        "print('Data source import complete.')\n"
      ],
      "metadata": {
        "id": "qclAAsCrWXCo"
      },
      "cell_type": "code",
      "outputs": [],
      "execution_count": null
    },
    {
      "cell_type": "code",
      "source": [
        "# This Python 3 environment comes with many helpful analytics libraries installed\n",
        "# It is defined by the kaggle/python Docker image: https://github.com/kaggle/docker-python\n",
        "# For example, here's several helpful packages to load\n",
        "\n",
        "import numpy as np # linear algebra\n",
        "import pandas as pd # data processing, CSV file I/O (e.g. pd.read_csv)\n",
        "\n",
        "# Input data files are available in the read-only \"../input/\" directory\n",
        "# For example, running this (by clicking run or pressing Shift+Enter) will list all files under the input directory\n",
        "\n",
        "import os\n",
        "for dirname, _, filenames in os.walk('/kaggle/input'):\n",
        "    for filename in filenames:\n",
        "        print(os.path.join(dirname, filename))\n",
        "\n",
        "# You can write up to 20GB to the current directory (/kaggle/working/) that gets preserved as output when you create a version using \"Save & Run All\"\n",
        "# You can also write temporary files to /kaggle/temp/, but they won't be saved outside of the current session"
      ],
      "metadata": {
        "_uuid": "8f2839f25d086af736a60e9eeb907d3b93b6e0e5",
        "_cell_guid": "b1076dfc-b9ad-4769-8c92-a6c4dae69d19",
        "execution": {
          "iopub.status.busy": "2024-09-18T12:20:15.893993Z",
          "iopub.execute_input": "2024-09-18T12:20:15.895195Z",
          "iopub.status.idle": "2024-09-18T12:20:16.377692Z",
          "shell.execute_reply.started": "2024-09-18T12:20:15.895103Z",
          "shell.execute_reply": "2024-09-18T12:20:16.376355Z"
        },
        "trusted": true,
        "id": "Nz06N41JWXCw"
      },
      "execution_count": null,
      "outputs": []
    },
    {
      "cell_type": "code",
      "source": [
        "import gensim\n",
        "import os\n",
        "from nltk import sent_tokenize\n",
        "from gensim.utils import simple_preprocess"
      ],
      "metadata": {
        "execution": {
          "iopub.status.busy": "2024-09-18T12:23:30.193787Z",
          "iopub.execute_input": "2024-09-18T12:23:30.194222Z",
          "iopub.status.idle": "2024-09-18T12:23:30.199575Z",
          "shell.execute_reply.started": "2024-09-18T12:23:30.19418Z",
          "shell.execute_reply": "2024-09-18T12:23:30.198195Z"
        },
        "trusted": true,
        "id": "N8HK1qmZWXCx"
      },
      "execution_count": null,
      "outputs": []
    },
    {
      "cell_type": "code",
      "source": [
        "#preprocessing\n",
        "import string\n",
        "from nltk.corpus import stopwords\n",
        "from gensim.utils import simple_preprocess\n",
        "\n",
        "def preprocess(text: str):\n",
        "    # Use simple_preprocess for basic preprocessing (lowercasing, punctuation removal, and tokenization)\n",
        "    processed_text = simple_preprocess(text, deacc=True)  # deacc=True removes accents\n",
        "\n",
        "    # Get the list of English stopwords\n",
        "    stopword = set(stopwords.words(\"english\"))\n",
        "\n",
        "    # Filter out stopwords\n",
        "    filtered_words = [word for word in processed_text if word not in stopword]\n",
        "\n",
        "    # Join the filtered words back into a string\n",
        "    return filtered_words"
      ],
      "metadata": {
        "execution": {
          "iopub.status.busy": "2024-09-18T13:14:46.871535Z",
          "iopub.execute_input": "2024-09-18T13:14:46.872047Z",
          "iopub.status.idle": "2024-09-18T13:14:46.879002Z",
          "shell.execute_reply.started": "2024-09-18T13:14:46.871985Z",
          "shell.execute_reply": "2024-09-18T13:14:46.877838Z"
        },
        "trusted": true,
        "id": "33BjntLbWXCy"
      },
      "execution_count": null,
      "outputs": []
    },
    {
      "cell_type": "code",
      "source": [
        "story= []\n",
        "for filename in os.listdir(dirname):\n",
        "    f= open(os.path.join(dirname, filename))\n",
        "    corpus= f.read()\n",
        "    raw_sent =sent_tokenize(corpus)\n",
        "    for sent in raw_sent:\n",
        "        story.append(preprocess(sent))"
      ],
      "metadata": {
        "execution": {
          "iopub.status.busy": "2024-09-18T13:15:06.629673Z",
          "iopub.execute_input": "2024-09-18T13:15:06.630885Z",
          "iopub.status.idle": "2024-09-18T13:15:36.190434Z",
          "shell.execute_reply.started": "2024-09-18T13:15:06.630806Z",
          "shell.execute_reply": "2024-09-18T13:15:36.189394Z"
        },
        "trusted": true,
        "id": "HUrBXarVWXCy"
      },
      "execution_count": null,
      "outputs": []
    },
    {
      "cell_type": "code",
      "source": [
        "type(story)"
      ],
      "metadata": {
        "execution": {
          "iopub.status.busy": "2024-09-18T13:15:51.29291Z",
          "iopub.execute_input": "2024-09-18T13:15:51.293834Z",
          "iopub.status.idle": "2024-09-18T13:15:51.300549Z",
          "shell.execute_reply.started": "2024-09-18T13:15:51.293784Z",
          "shell.execute_reply": "2024-09-18T13:15:51.29938Z"
        },
        "trusted": true,
        "id": "f93WDGg0WXCz"
      },
      "execution_count": null,
      "outputs": []
    },
    {
      "cell_type": "code",
      "source": [
        "#from nltk.corpus import stopwords\n",
        "#stopwords.words(\"english\")"
      ],
      "metadata": {
        "execution": {
          "iopub.status.busy": "2024-09-18T12:48:39.715137Z",
          "iopub.execute_input": "2024-09-18T12:48:39.716229Z",
          "iopub.status.idle": "2024-09-18T12:48:39.720934Z",
          "shell.execute_reply.started": "2024-09-18T12:48:39.716178Z",
          "shell.execute_reply": "2024-09-18T12:48:39.719665Z"
        },
        "trusted": true,
        "id": "FnWfHRxkWXCz"
      },
      "execution_count": null,
      "outputs": []
    },
    {
      "cell_type": "code",
      "source": [
        "len(story)  #116154  ->"
      ],
      "metadata": {
        "execution": {
          "iopub.status.busy": "2024-09-18T13:16:19.483524Z",
          "iopub.execute_input": "2024-09-18T13:16:19.484476Z",
          "iopub.status.idle": "2024-09-18T13:16:19.491862Z",
          "shell.execute_reply.started": "2024-09-18T13:16:19.484418Z",
          "shell.execute_reply": "2024-09-18T13:16:19.490659Z"
        },
        "trusted": true,
        "id": "1KqE9codWXC0"
      },
      "execution_count": null,
      "outputs": []
    },
    {
      "cell_type": "code",
      "source": [
        "model= gensim.models.Word2Vec()\n",
        "model.build_vocab(story)"
      ],
      "metadata": {
        "execution": {
          "iopub.status.busy": "2024-09-18T13:16:23.322237Z",
          "iopub.execute_input": "2024-09-18T13:16:23.32296Z",
          "iopub.status.idle": "2024-09-18T13:16:23.717363Z",
          "shell.execute_reply.started": "2024-09-18T13:16:23.322909Z",
          "shell.execute_reply": "2024-09-18T13:16:23.716419Z"
        },
        "trusted": true,
        "id": "vols6RqSWXC1"
      },
      "execution_count": null,
      "outputs": []
    },
    {
      "cell_type": "code",
      "source": [
        "model.train(story, total_examples= model.corpus_count, epochs= model.epochs,)"
      ],
      "metadata": {
        "execution": {
          "iopub.status.busy": "2024-09-18T13:16:26.068365Z",
          "iopub.execute_input": "2024-09-18T13:16:26.068873Z",
          "iopub.status.idle": "2024-09-18T13:16:28.864417Z",
          "shell.execute_reply.started": "2024-09-18T13:16:26.068816Z",
          "shell.execute_reply": "2024-09-18T13:16:28.863365Z"
        },
        "trusted": true,
        "id": "KKIUlKNqWXC1"
      },
      "execution_count": null,
      "outputs": []
    },
    {
      "cell_type": "code",
      "source": [
        "model.wv.most_similar(\"monica\")"
      ],
      "metadata": {
        "execution": {
          "iopub.status.busy": "2024-09-18T13:18:44.298292Z",
          "iopub.execute_input": "2024-09-18T13:18:44.299143Z",
          "iopub.status.idle": "2024-09-18T13:18:44.307936Z",
          "shell.execute_reply.started": "2024-09-18T13:18:44.299059Z",
          "shell.execute_reply": "2024-09-18T13:18:44.306812Z"
        },
        "trusted": true,
        "id": "YDUQwKh0WXC1"
      },
      "execution_count": null,
      "outputs": []
    },
    {
      "cell_type": "code",
      "source": [
        "model.wv.n_similarity(\"monica\", \"airport\")"
      ],
      "metadata": {
        "execution": {
          "iopub.status.busy": "2024-09-18T13:18:35.780857Z",
          "iopub.execute_input": "2024-09-18T13:18:35.781334Z",
          "iopub.status.idle": "2024-09-18T13:18:35.789251Z",
          "shell.execute_reply.started": "2024-09-18T13:18:35.781285Z",
          "shell.execute_reply": "2024-09-18T13:18:35.787996Z"
        },
        "trusted": true,
        "id": "jD-x5ZT1WXC2"
      },
      "execution_count": null,
      "outputs": []
    },
    {
      "cell_type": "markdown",
      "source": [
        "model.wv.get_normed_vectors() provides the normalized vectors for all words in the model's vocabulary. Normalized vectors are useful for measuring similarities and distances between words in a consistent and numerically stable manner."
      ],
      "metadata": {
        "id": "jnlcyIETWXC2"
      }
    },
    {
      "cell_type": "code",
      "source": [
        "X= model.wv.get_normed_vectors()\n",
        "X.shape"
      ],
      "metadata": {
        "execution": {
          "iopub.status.busy": "2024-09-18T13:29:49.693648Z",
          "iopub.execute_input": "2024-09-18T13:29:49.694465Z",
          "iopub.status.idle": "2024-09-18T13:29:49.70236Z",
          "shell.execute_reply.started": "2024-09-18T13:29:49.694409Z",
          "shell.execute_reply": "2024-09-18T13:29:49.701052Z"
        },
        "trusted": true,
        "id": "sACoKQouWXC3"
      },
      "execution_count": null,
      "outputs": []
    },
    {
      "cell_type": "markdown",
      "source": [
        "training the Model: A simple Word2Vec model is trained with sample sentences.\n",
        "Accessing index_to_key: Retrieves the list of words in the vocabulary. The order of words in this list corresponds to the indices of their vectors.\n",
        "Printing Words: Prints the first 10 words in the vocabulary to see how the words are indexed."
      ],
      "metadata": {
        "id": "i8UmchXXWXC4"
      }
    },
    {
      "cell_type": "code",
      "source": [
        "y = model.wv.index_to_key\n"
      ],
      "metadata": {
        "execution": {
          "iopub.status.busy": "2024-09-18T13:26:30.862073Z",
          "iopub.execute_input": "2024-09-18T13:26:30.862552Z",
          "iopub.status.idle": "2024-09-18T13:26:30.867624Z",
          "shell.execute_reply.started": "2024-09-18T13:26:30.862505Z",
          "shell.execute_reply": "2024-09-18T13:26:30.866439Z"
        },
        "trusted": true,
        "id": "lQGT71lfWXC4"
      },
      "execution_count": null,
      "outputs": []
    },
    {
      "cell_type": "code",
      "source": [
        "len(y)"
      ],
      "metadata": {
        "execution": {
          "iopub.status.busy": "2024-09-18T13:27:13.156672Z",
          "iopub.execute_input": "2024-09-18T13:27:13.157691Z",
          "iopub.status.idle": "2024-09-18T13:27:13.164314Z",
          "shell.execute_reply.started": "2024-09-18T13:27:13.157645Z",
          "shell.execute_reply": "2024-09-18T13:27:13.163181Z"
        },
        "trusted": true,
        "id": "vXE5KPA6WXC5"
      },
      "execution_count": null,
      "outputs": []
    },
    {
      "cell_type": "code",
      "source": [],
      "metadata": {
        "trusted": true,
        "id": "HDtYOMv6WXC5"
      },
      "execution_count": null,
      "outputs": []
    },
    {
      "cell_type": "code",
      "source": [
        "from sklearn.decomposition import PCA\n",
        "pca= PCA(n_components=3)\n",
        "x= pca.fit_transform(X)\n",
        "x.shape"
      ],
      "metadata": {
        "execution": {
          "iopub.status.busy": "2024-09-18T13:31:08.863952Z",
          "iopub.execute_input": "2024-09-18T13:31:08.864647Z",
          "iopub.status.idle": "2024-09-18T13:31:08.91452Z",
          "shell.execute_reply.started": "2024-09-18T13:31:08.864599Z",
          "shell.execute_reply": "2024-09-18T13:31:08.913541Z"
        },
        "trusted": true,
        "id": "8GOQYNJqWXC6"
      },
      "execution_count": null,
      "outputs": []
    },
    {
      "cell_type": "code",
      "source": [
        "import plotly.express as px\n",
        "fig = px.scatter_3d(X[:50],x=0,y=1,z=2, color=y[:50])\n",
        "fig.show()"
      ],
      "metadata": {
        "execution": {
          "iopub.status.busy": "2024-09-18T13:31:35.931915Z",
          "iopub.execute_input": "2024-09-18T13:31:35.932764Z",
          "iopub.status.idle": "2024-09-18T13:31:37.897484Z",
          "shell.execute_reply.started": "2024-09-18T13:31:35.932716Z",
          "shell.execute_reply": "2024-09-18T13:31:37.896436Z"
        },
        "trusted": true,
        "id": "nju6qlWhWXC6"
      },
      "execution_count": null,
      "outputs": []
    }
  ]
}