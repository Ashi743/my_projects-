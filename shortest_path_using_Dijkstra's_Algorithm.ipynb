{
  "nbformat": 4,
  "nbformat_minor": 0,
  "metadata": {
    "colab": {
      "provenance": [],
      "authorship_tag": "ABX9TyMoPhM7U8tRB1iPcA/goA8n",
      "include_colab_link": true
    },
    "kernelspec": {
      "name": "python3",
      "display_name": "Python 3"
    },
    "language_info": {
      "name": "python"
    },
    "widgets": {
      "application/vnd.jupyter.widget-state+json": {
        "7e917e759ac540a993e9814aef1f23f0": {
          "model_module": "jupyter-leaflet",
          "model_name": "LeafletMapModel",
          "model_module_version": "^0.19",
          "state": {
            "_dom_classes": [],
            "_model_module": "jupyter-leaflet",
            "_model_module_version": "^0.19",
            "_model_name": "LeafletMapModel",
            "_view_count": null,
            "_view_module": "jupyter-leaflet",
            "_view_module_version": "^0.19",
            "_view_name": "LeafletMapView",
            "bottom": 109605,
            "bounce_at_zoom_limits": true,
            "box_zoom": true,
            "center": [
              28.501281466042947,
              77.18032836914064
            ],
            "close_popup_on_click": true,
            "controls": [
              "IPY_MODEL_ff6bffe5a20c4ce38c1acc680a96043b",
              "IPY_MODEL_cb598e3fbea94233be5c753c27ff3fc1"
            ],
            "crs": {
              "name": "EPSG3857",
              "custom": false
            },
            "default_style": "IPY_MODEL_71c9e5240c0549cbab199563883e6f37",
            "double_click_zoom": true,
            "dragging": true,
            "dragging_style": "IPY_MODEL_e48aa613a5a84f849c1a724f0a567194",
            "east": 77.89169311523438,
            "fullscreen": false,
            "inertia": true,
            "inertia_deceleration": 3000,
            "inertia_max_speed": 1500,
            "interpolation": "bilinear",
            "keyboard": true,
            "keyboard_pan_offset": 80,
            "keyboard_zoom_offset": 1,
            "layers": [
              "IPY_MODEL_c157319d3cc14490bd60d9f5d228cf97",
              "IPY_MODEL_3dfc2111306a41b08ac888c26563c3e6",
              "IPY_MODEL_e74ccf4f0d1843b7b22eab9bbbcd97ee",
              "IPY_MODEL_18db5b94d5804a638085e387f08bf622"
            ],
            "layout": "IPY_MODEL_5085cd2fb4fa4bd1876b2c644905a053",
            "left": 186755,
            "max_zoom": null,
            "min_zoom": null,
            "modisdate": "2024-11-28",
            "north": 28.74237630038886,
            "options": [
              "bounce_at_zoom_limits",
              "box_zoom",
              "center",
              "close_popup_on_click",
              "double_click_zoom",
              "dragging",
              "fullscreen",
              "inertia",
              "inertia_deceleration",
              "inertia_max_speed",
              "interpolation",
              "keyboard",
              "keyboard_pan_offset",
              "keyboard_zoom_offset",
              "max_zoom",
              "min_zoom",
              "prefer_canvas",
              "scroll_wheel_zoom",
              "tap",
              "tap_tolerance",
              "touch_zoom",
              "world_copy_jump",
              "zoom",
              "zoom_animation_threshold",
              "zoom_delta",
              "zoom_snap"
            ],
            "panes": {},
            "prefer_canvas": false,
            "right": 187791,
            "scroll_wheel_zoom": false,
            "south": 28.259634511650006,
            "style": "IPY_MODEL_71c9e5240c0549cbab199563883e6f37",
            "tap": true,
            "tap_tolerance": 15,
            "top": 109205,
            "touch_zoom": true,
            "west": 76.46896362304688,
            "window_url": "https://8v31tazzf8-496ff2e9c6d22116-0-colab.googleusercontent.com/outputframe.html?vrz=colab_20241125-104948_RC00_700020055",
            "world_copy_jump": false,
            "zoom": 10,
            "zoom_animation_threshold": 4,
            "zoom_delta": 1,
            "zoom_snap": 1
          }
        },
        "ff6bffe5a20c4ce38c1acc680a96043b": {
          "model_module": "jupyter-leaflet",
          "model_name": "LeafletZoomControlModel",
          "model_module_version": "^0.19",
          "state": {
            "_model_module": "jupyter-leaflet",
            "_model_module_version": "^0.19",
            "_model_name": "LeafletZoomControlModel",
            "_view_count": null,
            "_view_module": "jupyter-leaflet",
            "_view_module_version": "^0.19",
            "_view_name": "LeafletZoomControlView",
            "options": [
              "position",
              "zoom_in_text",
              "zoom_in_title",
              "zoom_out_text",
              "zoom_out_title"
            ],
            "position": "topleft",
            "zoom_in_text": "+",
            "zoom_in_title": "Zoom in",
            "zoom_out_text": "-",
            "zoom_out_title": "Zoom out"
          }
        },
        "cb598e3fbea94233be5c753c27ff3fc1": {
          "model_module": "jupyter-leaflet",
          "model_name": "LeafletAttributionControlModel",
          "model_module_version": "^0.19",
          "state": {
            "_model_module": "jupyter-leaflet",
            "_model_module_version": "^0.19",
            "_model_name": "LeafletAttributionControlModel",
            "_view_count": null,
            "_view_module": "jupyter-leaflet",
            "_view_module_version": "^0.19",
            "_view_name": "LeafletAttributionControlView",
            "options": [
              "position",
              "prefix"
            ],
            "position": "bottomright",
            "prefix": "ipyleaflet"
          }
        },
        "71c9e5240c0549cbab199563883e6f37": {
          "model_module": "jupyter-leaflet",
          "model_name": "LeafletMapStyleModel",
          "model_module_version": "^0.19",
          "state": {
            "_model_module": "jupyter-leaflet",
            "_model_module_version": "^0.19",
            "_model_name": "LeafletMapStyleModel",
            "_view_count": null,
            "_view_module": "@jupyter-widgets/base",
            "_view_module_version": "1.2.0",
            "_view_name": "StyleView",
            "cursor": "grab"
          }
        },
        "e48aa613a5a84f849c1a724f0a567194": {
          "model_module": "jupyter-leaflet",
          "model_name": "LeafletMapStyleModel",
          "model_module_version": "^0.19",
          "state": {
            "_model_module": "jupyter-leaflet",
            "_model_module_version": "^0.19",
            "_model_name": "LeafletMapStyleModel",
            "_view_count": null,
            "_view_module": "@jupyter-widgets/base",
            "_view_module_version": "1.2.0",
            "_view_name": "StyleView",
            "cursor": "move"
          }
        },
        "c157319d3cc14490bd60d9f5d228cf97": {
          "model_module": "jupyter-leaflet",
          "model_name": "LeafletTileLayerModel",
          "model_module_version": "^0.19",
          "state": {
            "_model_module": "jupyter-leaflet",
            "_model_module_version": "^0.19",
            "_model_name": "LeafletTileLayerModel",
            "_view_count": null,
            "_view_module": "jupyter-leaflet",
            "_view_module_version": "^0.19",
            "_view_name": "LeafletTileLayerView",
            "attribution": "&copy; <a href=\"https://www.openstreetmap.org/copyright\">OpenStreetMap</a> contributors",
            "base": true,
            "bottom": true,
            "bounds": null,
            "detect_retina": false,
            "loading": false,
            "max_native_zoom": null,
            "max_zoom": 19,
            "min_native_zoom": null,
            "min_zoom": 1,
            "name": "OpenStreetMap.Mapnik",
            "no_wrap": false,
            "opacity": 1,
            "options": [
              "attribution",
              "bounds",
              "detect_retina",
              "max_native_zoom",
              "max_zoom",
              "min_native_zoom",
              "min_zoom",
              "no_wrap",
              "tile_size",
              "tms",
              "zoom_offset"
            ],
            "pane": "",
            "popup": null,
            "popup_max_height": null,
            "popup_max_width": 300,
            "popup_min_width": 50,
            "show_loading": false,
            "subitems": [],
            "tile_size": 256,
            "tms": false,
            "url": "https://tile.openstreetmap.org/{z}/{x}/{y}.png",
            "visible": true,
            "zoom_offset": 0
          }
        },
        "3dfc2111306a41b08ac888c26563c3e6": {
          "model_module": "jupyter-leaflet",
          "model_name": "LeafletMarkerModel",
          "model_module_version": "^0.19",
          "state": {
            "_model_module": "jupyter-leaflet",
            "_model_module_version": "^0.19",
            "_model_name": "LeafletMarkerModel",
            "_view_count": null,
            "_view_module": "jupyter-leaflet",
            "_view_module_version": "^0.19",
            "_view_name": "LeafletMarkerView",
            "alt": "",
            "base": false,
            "bottom": false,
            "draggable": false,
            "icon": null,
            "keyboard": true,
            "location": [
              28.5439,
              77.3331
            ],
            "name": "",
            "opacity": 1,
            "options": [
              "alt",
              "draggable",
              "keyboard",
              "rise_offset",
              "rise_on_hover",
              "rotation_angle",
              "rotation_origin",
              "title",
              "z_index_offset"
            ],
            "pane": "",
            "popup": null,
            "popup_max_height": null,
            "popup_max_width": 300,
            "popup_min_width": 50,
            "rise_offset": 250,
            "rise_on_hover": false,
            "rotation_angle": 0,
            "rotation_origin": "",
            "subitems": [],
            "title": "amity",
            "visible": true,
            "z_index_offset": 0
          }
        },
        "e74ccf4f0d1843b7b22eab9bbbcd97ee": {
          "model_module": "jupyter-leaflet",
          "model_name": "LeafletMarkerModel",
          "model_module_version": "^0.19",
          "state": {
            "_model_module": "jupyter-leaflet",
            "_model_module_version": "^0.19",
            "_model_name": "LeafletMarkerModel",
            "_view_count": null,
            "_view_module": "jupyter-leaflet",
            "_view_module_version": "^0.19",
            "_view_name": "LeafletMarkerView",
            "alt": "",
            "base": false,
            "bottom": false,
            "draggable": false,
            "icon": null,
            "keyboard": true,
            "location": [
              28.4595,
              77.0266
            ],
            "name": "",
            "opacity": 1,
            "options": [
              "alt",
              "draggable",
              "keyboard",
              "rise_offset",
              "rise_on_hover",
              "rotation_angle",
              "rotation_origin",
              "title",
              "z_index_offset"
            ],
            "pane": "",
            "popup": null,
            "popup_max_height": null,
            "popup_max_width": 300,
            "popup_min_width": 50,
            "rise_offset": 250,
            "rise_on_hover": false,
            "rotation_angle": 0,
            "rotation_origin": "",
            "subitems": [],
            "title": "shimla",
            "visible": true,
            "z_index_offset": 0
          }
        },
        "18db5b94d5804a638085e387f08bf622": {
          "model_module": "jupyter-leaflet",
          "model_name": "LeafletPolylineModel",
          "model_module_version": "^0.19",
          "state": {
            "_model_module": "jupyter-leaflet",
            "_model_module_version": "^0.19",
            "_model_name": "LeafletPolylineModel",
            "_view_count": null,
            "_view_module": "jupyter-leaflet",
            "_view_module_version": "^0.19",
            "_view_name": "LeafletPolylineView",
            "base": false,
            "bottom": false,
            "color": "blue",
            "dash_array": null,
            "draggable": false,
            "fill": false,
            "fill_color": null,
            "fill_opacity": 0.2,
            "line_cap": "round",
            "line_join": "round",
            "locations": [
              [
                28.5322241,
                77.3269084
              ],
              [
                28.5321384,
                77.3261194
              ],
              [
                28.5316404,
                77.3200041
              ],
              [
                28.5321749,
                77.3180951
              ],
              [
                28.5321359,
                77.3179767
              ],
              [
                28.5321049,
                77.3178599
              ],
              [
                28.5321142,
                77.3169651
              ],
              [
                28.5321559,
                77.3165284
              ],
              [
                28.5323807,
                77.315822
              ],
              [
                28.5326003,
                77.3149483
              ],
              [
                28.532612,
                77.3148722
              ],
              [
                28.5326617,
                77.3145547
              ],
              [
                28.532724,
                77.3140762
              ],
              [
                28.5326381,
                77.3113781
              ],
              [
                28.5325562,
                77.3113466
              ],
              [
                28.5325603,
                77.311164
              ],
              [
                28.5325632,
                77.3105443
              ],
              [
                28.5327043,
                77.3095141
              ],
              [
                28.5322806,
                77.3078063
              ],
              [
                28.533058,
                77.3074463
              ],
              [
                28.5325225,
                77.3065555
              ],
              [
                28.5323,
                77.3061903
              ],
              [
                28.5321834,
                77.3059066
              ],
              [
                28.5320651,
                77.3056082
              ],
              [
                28.5319369,
                77.3042779
              ],
              [
                28.531997,
                77.3029001
              ],
              [
                28.5320575,
                77.3028575
              ],
              [
                28.5323955,
                77.3027167
              ],
              [
                28.5326254,
                77.3022949
              ],
              [
                28.5329562,
                77.3017022
              ],
              [
                28.5330311,
                77.3015536
              ],
              [
                28.5340968,
                77.3009684
              ],
              [
                28.5342881,
                77.3009661
              ],
              [
                28.5343642,
                77.3004436
              ],
              [
                28.5350273,
                77.3002444
              ],
              [
                28.534984,
                77.3004346
              ],
              [
                28.5352259,
                77.300301
              ],
              [
                28.5355612,
                77.3000516
              ],
              [
                28.5358965,
                77.2996916
              ],
              [
                28.5360714,
                77.2994242
              ],
              [
                28.5366041,
                77.2987799
              ],
              [
                28.5366511,
                77.2987139
              ],
              [
                28.5369007,
                77.2979883
              ],
              [
                28.5374962,
                77.2986956
              ],
              [
                28.5378205,
                77.2985206
              ],
              [
                28.538195,
                77.2983185
              ],
              [
                28.5382373,
                77.2984193
              ],
              [
                28.5383856,
                77.2983388
              ],
              [
                28.5388855,
                77.2980654
              ],
              [
                28.5391203,
                77.2979288
              ],
              [
                28.5394508,
                77.2977604
              ],
              [
                28.5400446,
                77.2974263
              ],
              [
                28.5405162,
                77.2971404
              ],
              [
                28.5395738,
                77.2948691
              ],
              [
                28.5389938,
                77.2934827
              ],
              [
                28.5386193,
                77.2925881
              ],
              [
                28.5383532,
                77.2919643
              ],
              [
                28.5375646,
                77.2900787
              ],
              [
                28.537283,
                77.2893853
              ],
              [
                28.5360128,
                77.2863437
              ],
              [
                28.5350275,
                77.2839903
              ],
              [
                28.5325448,
                77.2784147
              ],
              [
                28.532505,
                77.2783386
              ],
              [
                28.5316939,
                77.2767389
              ],
              [
                28.5316551,
                77.2766618
              ],
              [
                28.5310638,
                77.2755339
              ],
              [
                28.5297762,
                77.2730261
              ],
              [
                28.5292277,
                77.2719386
              ],
              [
                28.5290093,
                77.2714649
              ],
              [
                28.528965,
                77.2713689
              ],
              [
                28.5287002,
                77.2707946
              ],
              [
                28.5252081,
                77.2637103
              ],
              [
                28.5254123,
                77.2612343
              ],
              [
                28.5255956,
                77.2602839
              ],
              [
                28.5256665,
                77.2599736
              ],
              [
                28.5241932,
                77.2585698
              ],
              [
                28.5240791,
                77.2584761
              ],
              [
                28.5238761,
                77.258387
              ],
              [
                28.5237376,
                77.258339
              ],
              [
                28.5235751,
                77.2582826
              ],
              [
                28.5234777,
                77.2583574
              ],
              [
                28.5233893,
                77.258142
              ],
              [
                28.5233345,
                77.2580119
              ],
              [
                28.5232757,
                77.2578046
              ],
              [
                28.5230441,
                77.2577711
              ],
              [
                28.5229155,
                77.2576699
              ],
              [
                28.522857,
                77.2574733
              ],
              [
                28.5228889,
                77.2572608
              ],
              [
                28.5227018,
                77.2572127
              ],
              [
                28.5227391,
                77.2568053
              ],
              [
                28.5228023,
                77.2563415
              ],
              [
                28.5223771,
                77.2562049
              ],
              [
                28.5217942,
                77.2559931
              ],
              [
                28.5214577,
                77.2558622
              ],
              [
                28.5210522,
                77.2556989
              ],
              [
                28.5208784,
                77.255634
              ],
              [
                28.520697,
                77.2555634
              ],
              [
                28.5204842,
                77.2554805
              ],
              [
                28.5199553,
                77.2553248
              ],
              [
                28.5197479,
                77.2552565
              ],
              [
                28.5195608,
                77.2551872
              ],
              [
                28.5192401,
                77.255074
              ],
              [
                28.5190437,
                77.2550052
              ],
              [
                28.5188347,
                77.2549384
              ],
              [
                28.5186132,
                77.2548676
              ],
              [
                28.5184151,
                77.2548032
              ],
              [
                28.518005,
                77.2546454
              ],
              [
                28.5175211,
                77.2544458
              ],
              [
                28.5176422,
                77.2537597
              ],
              [
                28.5118648,
                77.2519205
              ],
              [
                28.5117561,
                77.251908
              ],
              [
                28.5117599,
                77.2518247
              ],
              [
                28.5119317,
                77.2493537
              ],
              [
                28.5119475,
                77.2486279
              ],
              [
                28.5120862,
                77.2452874
              ],
              [
                28.5121596,
                77.2439457
              ],
              [
                28.5121611,
                77.2439126
              ],
              [
                28.5129406,
                77.2382547
              ],
              [
                28.5133204,
                77.2366405
              ],
              [
                28.5137085,
                77.23502
              ],
              [
                28.5141224,
                77.2329933
              ],
              [
                28.514135,
                77.232923
              ],
              [
                28.5143194,
                77.2320602
              ],
              [
                28.514416,
                77.2316565
              ],
              [
                28.5145278,
                77.2311934
              ],
              [
                28.5149227,
                77.2294861
              ],
              [
                28.5155402,
                77.2266758
              ],
              [
                28.5159469,
                77.2245705
              ],
              [
                28.5168075,
                77.2203596
              ],
              [
                28.5175108,
                77.2170651
              ],
              [
                28.5179801,
                77.2143765
              ],
              [
                28.5187706,
                77.2102632
              ],
              [
                28.5189669,
                77.2092287
              ],
              [
                28.5195981,
                77.2066012
              ],
              [
                28.5196107,
                77.206548
              ],
              [
                28.5198343,
                77.2056446
              ],
              [
                28.5199626,
                77.2049426
              ],
              [
                28.5200273,
                77.2046248
              ],
              [
                28.5202288,
                77.2037222
              ],
              [
                28.520292,
                77.2034326
              ],
              [
                28.5205872,
                77.2020251
              ],
              [
                28.5208178,
                77.2010655
              ],
              [
                28.5209716,
                77.2006189
              ],
              [
                28.5223365,
                77.1964107
              ],
              [
                28.5227579,
                77.1924136
              ],
              [
                28.5227804,
                77.1923152
              ],
              [
                28.5231247,
                77.1908131
              ],
              [
                28.5233113,
                77.1901547
              ],
              [
                28.5233358,
                77.1900078
              ],
              [
                28.523456,
                77.1900373
              ],
              [
                28.5240353,
                77.1900194
              ],
              [
                28.524345,
                77.1884895
              ],
              [
                28.5255307,
                77.1873067
              ],
              [
                28.5264996,
                77.1871218
              ],
              [
                28.5265188,
                77.1847642
              ],
              [
                28.5261688,
                77.1843584
              ],
              [
                28.5238529,
                77.1830417
              ],
              [
                28.5228276,
                77.182314
              ],
              [
                28.5226043,
                77.1820437
              ],
              [
                28.522472,
                77.1818324
              ],
              [
                28.5217915,
                77.1809351
              ],
              [
                28.521777,
                77.180897
              ],
              [
                28.5214664,
                77.1803862
              ],
              [
                28.521458,
                77.1801012
              ],
              [
                28.5214043,
                77.1798068
              ],
              [
                28.5212393,
                77.1789876
              ],
              [
                28.5208256,
                77.1787785
              ],
              [
                28.5204369,
                77.1786418
              ],
              [
                28.5199716,
                77.1769472
              ],
              [
                28.520167,
                77.1760295
              ],
              [
                28.5201426,
                77.1756815
              ],
              [
                28.5198173,
                77.1737163
              ],
              [
                28.5198181,
                77.1731715
              ],
              [
                28.5197479,
                77.171879
              ],
              [
                28.5197017,
                77.1714684
              ],
              [
                28.5196643,
                77.1711166
              ],
              [
                28.5195761,
                77.1701678
              ],
              [
                28.5195854,
                77.1697996
              ],
              [
                28.5193446,
                77.1690531
              ],
              [
                28.5190271,
                77.1684171
              ],
              [
                28.5188556,
                77.1680559
              ],
              [
                28.5184757,
                77.1656168
              ],
              [
                28.5185072,
                77.1648221
              ],
              [
                28.5185168,
                77.1647469
              ],
              [
                28.5187007,
                77.1640635
              ],
              [
                28.5190415,
                77.1623326
              ],
              [
                28.5190499,
                77.1621852
              ],
              [
                28.5186321,
                77.1602646
              ],
              [
                28.5184858,
                77.1599919
              ],
              [
                28.5184038,
                77.1598596
              ],
              [
                28.5183554,
                77.1597684
              ],
              [
                28.518417,
                77.159733
              ],
              [
                28.5185393,
                77.1596671
              ],
              [
                28.518615,
                77.1596301
              ],
              [
                28.5246262,
                77.1554314
              ],
              [
                28.524678,
                77.1553768
              ],
              [
                28.5249163,
                77.1550984
              ],
              [
                28.5251,
                77.1548729
              ],
              [
                28.5253324,
                77.1545714
              ],
              [
                28.5259421,
                77.1537739
              ],
              [
                28.5260345,
                77.1536575
              ],
              [
                28.5272905,
                77.151696
              ],
              [
                28.5274049,
                77.1514893
              ],
              [
                28.5291586,
                77.1483479
              ],
              [
                28.5292503,
                77.1482232
              ],
              [
                28.5298855,
                77.1475021
              ],
              [
                28.530297,
                77.147072
              ],
              [
                28.5341323,
                77.1423299
              ],
              [
                28.534389,
                77.1420999
              ],
              [
                28.534448,
                77.1420495
              ],
              [
                28.5354327,
                77.1411978
              ],
              [
                28.5374011,
                77.1386863
              ],
              [
                28.5374359,
                77.1385861
              ],
              [
                28.5379638,
                77.136662
              ],
              [
                28.538121,
                77.1354341
              ],
              [
                28.5382154,
                77.1343416
              ],
              [
                28.5382582,
                77.1340585
              ],
              [
                28.5382747,
                77.1337783
              ],
              [
                28.5396949,
                77.1316324
              ],
              [
                28.5395544,
                77.1314986
              ],
              [
                28.5364218,
                77.1302515
              ],
              [
                28.5363772,
                77.1292943
              ],
              [
                28.5363974,
                77.1282519
              ],
              [
                28.5364384,
                77.1264622
              ],
              [
                28.5376388,
                77.1264535
              ],
              [
                28.5376391,
                77.1249607
              ],
              [
                28.5376887,
                77.1234992
              ],
              [
                28.5377048,
                77.1231241
              ],
              [
                28.5380708,
                77.1215594
              ],
              [
                28.5382385,
                77.1210127
              ],
              [
                28.5386044,
                77.1207795
              ],
              [
                28.5386203,
                77.1207699
              ],
              [
                28.539166,
                77.1203553
              ],
              [
                28.5390291,
                77.1196729
              ],
              [
                28.5389914,
                77.1193993
              ],
              [
                28.5397685,
                77.1187149
              ],
              [
                28.5398661,
                77.1185395
              ],
              [
                28.539958,
                77.1172695
              ],
              [
                28.539606,
                77.1170937
              ],
              [
                28.5385278,
                77.1165364
              ],
              [
                28.5384174,
                77.1163211
              ],
              [
                28.5382899,
                77.1162243
              ],
              [
                28.5354833,
                77.1116915
              ],
              [
                28.536256,
                77.1043201
              ],
              [
                28.5370254,
                77.0976333
              ],
              [
                28.5380074,
                77.0923922
              ],
              [
                28.5380419,
                77.0922521
              ],
              [
                28.538376,
                77.089955
              ],
              [
                28.5424355,
                77.0731379
              ],
              [
                28.5384942,
                77.0640447
              ],
              [
                28.5370556,
                77.0614379
              ],
              [
                28.5367448,
                77.060813
              ],
              [
                28.5361563,
                77.0597553
              ],
              [
                28.5358637,
                77.0590921
              ],
              [
                28.5359665,
                77.0581785
              ],
              [
                28.5359147,
                77.0575792
              ],
              [
                28.5358321,
                77.0573885
              ],
              [
                28.5352168,
                77.0564623
              ],
              [
                28.534962,
                77.0559231
              ],
              [
                28.5344352,
                77.0551962
              ],
              [
                28.5343985,
                77.0551417
              ],
              [
                28.5340417,
                77.0547302
              ],
              [
                28.5339446,
                77.0546122
              ],
              [
                28.5336362,
                77.0543919
              ],
              [
                28.532849,
                77.053428
              ],
              [
                28.5326571,
                77.0531416
              ],
              [
                28.5326095,
                77.0530777
              ],
              [
                28.5326354,
                77.052987
              ],
              [
                28.5353702,
                77.0442826
              ],
              [
                28.5367388,
                77.0408052
              ],
              [
                28.5367719,
                77.0407182
              ],
              [
                28.5378997,
                77.0368141
              ],
              [
                28.5380041,
                77.0361085
              ],
              [
                28.5386567,
                77.0320329
              ],
              [
                28.538852,
                77.0311622
              ],
              [
                28.5390998,
                77.0300589
              ],
              [
                28.5391654,
                77.0297856
              ],
              [
                28.5395247,
                77.0283013
              ],
              [
                28.5398777,
                77.0270172
              ],
              [
                28.5402072,
                77.025796
              ],
              [
                28.5407821,
                77.0233588
              ],
              [
                28.5419932,
                77.0181922
              ],
              [
                28.5426677,
                77.0152902
              ],
              [
                28.5428009,
                77.0147079
              ],
              [
                28.5431612,
                77.0130444
              ],
              [
                28.5432135,
                77.0128517
              ],
              [
                28.5439526,
                77.0113045
              ],
              [
                28.5440023,
                77.0112794
              ],
              [
                28.5458955,
                77.0101459
              ],
              [
                28.5434014,
                77.0075602
              ],
              [
                28.5416569,
                77.006972
              ],
              [
                28.5294752,
                76.997175
              ],
              [
                28.5272333,
                76.9864766
              ],
              [
                28.5258062,
                76.9871425
              ],
              [
                28.5268284,
                76.9911816
              ],
              [
                28.5249104,
                76.9912122
              ],
              [
                28.5217271,
                77.0010843
              ],
              [
                28.5212577,
                77.0020687
              ],
              [
                28.520546,
                77.0036267
              ],
              [
                28.5200862,
                77.0052593
              ],
              [
                28.5197338,
                77.0061374
              ],
              [
                28.5196819,
                77.0062415
              ],
              [
                28.5196615,
                77.006158
              ],
              [
                28.518894,
                77.006834
              ],
              [
                28.5155782,
                77.007047
              ],
              [
                28.5153197,
                77.0080729
              ]
            ],
            "name": "",
            "no_clip": true,
            "opacity": 1,
            "options": [
              "color",
              "dash_array",
              "draggable",
              "fill",
              "fill_color",
              "fill_opacity",
              "line_cap",
              "line_join",
              "no_clip",
              "opacity",
              "pointer_events",
              "smooth_factor",
              "stroke",
              "transform",
              "weight"
            ],
            "pane": "",
            "pointer_events": "",
            "popup": null,
            "popup_max_height": null,
            "popup_max_width": 300,
            "popup_min_width": 50,
            "rotation": true,
            "scaling": true,
            "smooth_factor": 1,
            "stroke": true,
            "subitems": [],
            "transform": false,
            "uniform_scaling": false,
            "weight": 2
          }
        },
        "5085cd2fb4fa4bd1876b2c644905a053": {
          "model_module": "@jupyter-widgets/base",
          "model_name": "LayoutModel",
          "model_module_version": "1.2.0",
          "state": {
            "_model_module": "@jupyter-widgets/base",
            "_model_module_version": "1.2.0",
            "_model_name": "LayoutModel",
            "_view_count": null,
            "_view_module": "@jupyter-widgets/base",
            "_view_module_version": "1.2.0",
            "_view_name": "LayoutView",
            "align_content": null,
            "align_items": null,
            "align_self": null,
            "border": null,
            "bottom": null,
            "display": null,
            "flex": null,
            "flex_flow": null,
            "grid_area": null,
            "grid_auto_columns": null,
            "grid_auto_flow": null,
            "grid_auto_rows": null,
            "grid_column": null,
            "grid_gap": null,
            "grid_row": null,
            "grid_template_areas": null,
            "grid_template_columns": null,
            "grid_template_rows": null,
            "height": null,
            "justify_content": null,
            "justify_items": null,
            "left": null,
            "margin": null,
            "max_height": null,
            "max_width": null,
            "min_height": null,
            "min_width": null,
            "object_fit": null,
            "object_position": null,
            "order": null,
            "overflow": null,
            "overflow_x": null,
            "overflow_y": null,
            "padding": null,
            "right": null,
            "top": null,
            "visibility": null,
            "width": null
          }
        },
        "58770b9dc6e54cab8e07fec5c537c5bd": {
          "model_module": "jupyter-leaflet",
          "model_name": "LeafletMapStyleModel",
          "model_module_version": "^0.19",
          "state": {
            "_model_module": "jupyter-leaflet",
            "_model_module_version": "^0.19",
            "_model_name": "LeafletMapStyleModel",
            "_view_count": null,
            "_view_module": "@jupyter-widgets/base",
            "_view_module_version": "1.2.0",
            "_view_name": "StyleView",
            "cursor": "grab"
          }
        }
      }
    }
  },
  "cells": [
    {
      "cell_type": "markdown",
      "metadata": {
        "id": "view-in-github",
        "colab_type": "text"
      },
      "source": [
        "<a href=\"https://colab.research.google.com/github/Ashi743/my_projects-/blob/main/shortest_path_using_Dijkstra's_Algorithm.ipynb\" target=\"_parent\"><img src=\"https://colab.research.google.com/assets/colab-badge.svg\" alt=\"Open In Colab\"/></a>"
      ]
    },
    {
      "cell_type": "code",
      "execution_count": 5,
      "metadata": {
        "colab": {
          "base_uri": "https://localhost:8080/"
        },
        "id": "wSMRV56qD2dv",
        "outputId": "0e612ce9-1c96-4b83-a057-567dabcadefa"
      },
      "outputs": [
        {
          "output_type": "stream",
          "name": "stdout",
          "text": [
            "Collecting osmnx\n",
            "  Downloading osmnx-2.0.0-py3-none-any.whl.metadata (4.8 kB)\n",
            "Requirement already satisfied: geopandas>=1.0 in /usr/local/lib/python3.10/dist-packages (from osmnx) (1.0.1)\n",
            "Requirement already satisfied: networkx>=2.5 in /usr/local/lib/python3.10/dist-packages (from osmnx) (3.4.2)\n",
            "Requirement already satisfied: numpy>=1.22 in /usr/local/lib/python3.10/dist-packages (from osmnx) (1.26.4)\n",
            "Requirement already satisfied: pandas>=1.4 in /usr/local/lib/python3.10/dist-packages (from osmnx) (2.2.2)\n",
            "Requirement already satisfied: requests>=2.27 in /usr/local/lib/python3.10/dist-packages (from osmnx) (2.32.3)\n",
            "Requirement already satisfied: shapely>=2.0 in /usr/local/lib/python3.10/dist-packages (from osmnx) (2.0.6)\n",
            "Requirement already satisfied: pyogrio>=0.7.2 in /usr/local/lib/python3.10/dist-packages (from geopandas>=1.0->osmnx) (0.10.0)\n",
            "Requirement already satisfied: packaging in /usr/local/lib/python3.10/dist-packages (from geopandas>=1.0->osmnx) (24.2)\n",
            "Requirement already satisfied: pyproj>=3.3.0 in /usr/local/lib/python3.10/dist-packages (from geopandas>=1.0->osmnx) (3.7.0)\n",
            "Requirement already satisfied: python-dateutil>=2.8.2 in /usr/local/lib/python3.10/dist-packages (from pandas>=1.4->osmnx) (2.8.2)\n",
            "Requirement already satisfied: pytz>=2020.1 in /usr/local/lib/python3.10/dist-packages (from pandas>=1.4->osmnx) (2024.2)\n",
            "Requirement already satisfied: tzdata>=2022.7 in /usr/local/lib/python3.10/dist-packages (from pandas>=1.4->osmnx) (2024.2)\n",
            "Requirement already satisfied: charset-normalizer<4,>=2 in /usr/local/lib/python3.10/dist-packages (from requests>=2.27->osmnx) (3.4.0)\n",
            "Requirement already satisfied: idna<4,>=2.5 in /usr/local/lib/python3.10/dist-packages (from requests>=2.27->osmnx) (3.10)\n",
            "Requirement already satisfied: urllib3<3,>=1.21.1 in /usr/local/lib/python3.10/dist-packages (from requests>=2.27->osmnx) (2.2.3)\n",
            "Requirement already satisfied: certifi>=2017.4.17 in /usr/local/lib/python3.10/dist-packages (from requests>=2.27->osmnx) (2024.8.30)\n",
            "Requirement already satisfied: six>=1.5 in /usr/local/lib/python3.10/dist-packages (from python-dateutil>=2.8.2->pandas>=1.4->osmnx) (1.16.0)\n",
            "Downloading osmnx-2.0.0-py3-none-any.whl (99 kB)\n",
            "\u001b[2K   \u001b[90m━━━━━━━━━━━━━━━━━━━━━━━━━━━━━━━━━━━━━━━━\u001b[0m \u001b[32m99.4/99.4 kB\u001b[0m \u001b[31m2.4 MB/s\u001b[0m eta \u001b[36m0:00:00\u001b[0m\n",
            "\u001b[?25hInstalling collected packages: osmnx\n",
            "Successfully installed osmnx-2.0.0\n"
          ]
        }
      ],
      "source": [
        "! pip install osmnx"
      ]
    },
    {
      "cell_type": "code",
      "source": [
        "!pip install networkx"
      ],
      "metadata": {
        "colab": {
          "base_uri": "https://localhost:8080/"
        },
        "id": "oN7hxcdyLhOj",
        "outputId": "433b8666-4100-4f3f-a9d6-8e7ab5b20225"
      },
      "execution_count": 3,
      "outputs": [
        {
          "output_type": "stream",
          "name": "stdout",
          "text": [
            "Requirement already satisfied: networkx in /usr/local/lib/python3.10/dist-packages (3.4.2)\n"
          ]
        }
      ]
    },
    {
      "cell_type": "code",
      "source": [
        "import folium\n",
        "import osmnx as ox\n",
        "import networkx as nx\n",
        "import ipyleaflet\n",
        "from ipyleaflet import Map, Marker, Polyline\n",
        "from IPython.display import display"
      ],
      "metadata": {
        "id": "cebISSVyL09S"
      },
      "execution_count": 6,
      "outputs": []
    },
    {
      "cell_type": "code",
      "source": [
        "origin_coordinates= [28.5439, 77.3331]    #amity\n",
        "destination_coordinates =[28.4595, 77.0266]     #\n",
        "\n",
        "SG= ox.graph_from_place('Delhi, India', network_type='drive') # Using the correct package name\n",
        "origin_node= ox.distance.nearest_nodes(SG, origin_coordinates[1], origin_coordinates[0])\n",
        "destination_node= ox.distance.nearest_nodes(SG, destination_coordinates[1], destination_coordinates[0])\n",
        "\n",
        "shortest_path= nx.shortest_path(SG, origin_node, destination_node, weight='length')\n",
        "\n",
        "path_coordinates= [(SG.nodes[node]['y'], SG.nodes[node]['x']) for node in shortest_path]\n",
        "\n",
        "m= Map(center= [( origin_coordinates[0] + destination_coordinates[0]) /2 , ( origin_coordinates[1] + destination_coordinates[1]) /2], zoom=10)\n",
        "origin_marker= Marker(location= origin_coordinates, draggable=False, title='amity')\n",
        "destination_marker= Marker(location= destination_coordinates, draggable=False, title='shimla')\n",
        "m.add_layer(origin_marker)\n",
        "m.add_layer(destination_marker)\n",
        "polyline= Polyline(locations= path_coordinates, color='blue', weight=2, fill= False)\n",
        "m.add_layer(polyline)\n",
        "display(m)"
      ],
      "metadata": {
        "colab": {
          "base_uri": "https://localhost:8080/",
          "height": 421,
          "referenced_widgets": [
            "7e917e759ac540a993e9814aef1f23f0",
            "ff6bffe5a20c4ce38c1acc680a96043b",
            "cb598e3fbea94233be5c753c27ff3fc1",
            "71c9e5240c0549cbab199563883e6f37",
            "e48aa613a5a84f849c1a724f0a567194",
            "c157319d3cc14490bd60d9f5d228cf97",
            "3dfc2111306a41b08ac888c26563c3e6",
            "e74ccf4f0d1843b7b22eab9bbbcd97ee",
            "18db5b94d5804a638085e387f08bf622",
            "5085cd2fb4fa4bd1876b2c644905a053",
            "58770b9dc6e54cab8e07fec5c537c5bd"
          ]
        },
        "id": "-oHA6C2Ht8eF",
        "outputId": "e501c9d0-b64e-4c00-95d0-5e5397c09d02"
      },
      "execution_count": 12,
      "outputs": [
        {
          "output_type": "display_data",
          "data": {
            "text/plain": [
              "Map(center=[28.5017, 77.17985], controls=(ZoomControl(options=['position', 'zoom_in_text', 'zoom_in_title', 'z…"
            ],
            "application/vnd.jupyter.widget-view+json": {
              "version_major": 2,
              "version_minor": 0,
              "model_id": "7e917e759ac540a993e9814aef1f23f0"
            }
          },
          "metadata": {
            "application/vnd.jupyter.widget-view+json": {
              "colab": {
                "custom_widget_manager": {
                  "url": "https://ssl.gstatic.com/colaboratory-static/widgets/colab-cdn-widget-manager/2b70e893a8ba7c0f/manager.min.js"
                }
              }
            }
          }
        }
      ]
    },
    {
      "cell_type": "code",
      "source": [],
      "metadata": {
        "id": "ZmMyOfuLMHrw"
      },
      "execution_count": null,
      "outputs": []
    },
    {
      "cell_type": "markdown",
      "source": [
        "Finding shortest path with dijkstra"
      ],
      "metadata": {
        "id": "d8cfDyxcD_xq"
      }
    },
    {
      "cell_type": "code",
      "source": [
        "import heapq\n",
        "import folium\n",
        "from folium.plugins import HeatMap\n"
      ],
      "metadata": {
        "id": "U31YkzYpMHwp"
      },
      "execution_count": 7,
      "outputs": []
    },
    {
      "cell_type": "code",
      "source": [
        "# geo coord\n",
        "tattapani= [31.2488, 77.0895]\n",
        "shimla= [31.1050, 77.1640]\n",
        "waknaghat= [31.0079, 77.0881]\n",
        "solan=  [30.9084, 77.0999]\n",
        "chandigarh= [30.7333, 76.7794]"
      ],
      "metadata": {
        "id": "680sYIqnMHzR"
      },
      "execution_count": 8,
      "outputs": []
    },
    {
      "cell_type": "code",
      "source": [
        "graph = {\n",
        "    \"tattapani\": [('shimla', 54.6), ('waknaghat', 79.3), ('solan', 96.6), ('chandigarh', 130)],\n",
        "    \"shimla\": [('tattapani', 54.6), ('waknaghat', 24.7), ('solan', 42), ('chandigarh', 108.5)],\n",
        "    \"waknaghat\": [('tattapani', 79.3), ('shimla', 24.7), ('solan', 23.3), ('chandigarh', 92.2)],\n",
        "    \"solan\": [('tattapani', 96.6), ('shimla', 42), ('waknaghat', 23.3), ('chandigarh', 68.4)],\n",
        "    \"chandigarh\": [('tattapani', 130), ('shimla', 108.5), ('waknaghat', 92.2), ('solan', 68.4)]\n",
        "}\n"
      ],
      "metadata": {
        "id": "Ykuc5Qms0Fjv"
      },
      "execution_count": 11,
      "outputs": []
    },
    {
      "cell_type": "code",
      "source": [
        "def find_shortest_path(graph, nodes):\n",
        "    import itertools\n",
        "\n",
        "    # Generate all permutations of nodes\n",
        "    all_paths = itertools.permutations(nodes)\n",
        "    shortest_path = None\n",
        "    shortest_path_length = float('inf')\n",
        "\n",
        "    for path in all_paths:\n",
        "        # Check if the path starts at 'tattapani' and ends at 'chandigarh'\n",
        "        if path[0] != 'tattapani' or path[-1] != 'chandigarh':\n",
        "            continue\n",
        "\n",
        "        # Calculate the path length\n",
        "        path_length = 0\n",
        "        valid_path = True\n",
        "\n",
        "        for i in range(len(path) - 1):\n",
        "            current_node = path[i]\n",
        "            next_node = path[i + 1]\n",
        "\n",
        "            # Search for the edge in the adjacency list\n",
        "            found_edge = False\n",
        "            for neighbor, weight in graph[current_node]:\n",
        "                if neighbor == next_node:\n",
        "                    path_length += weight\n",
        "                    found_edge = True\n",
        "                    break\n",
        "\n",
        "            # If no edge exists between current_node and next_node, path is invalid\n",
        "            if not found_edge:\n",
        "                valid_path = False\n",
        "                break\n",
        "\n",
        "        # Update the shortest path if a valid path is found\n",
        "        if valid_path and path_length < shortest_path_length:\n",
        "            shortest_path_length = path_length\n",
        "            shortest_path = path\n",
        "\n",
        "    return shortest_path, shortest_path_length\n"
      ],
      "metadata": {
        "id": "JBph--QVMH5k"
      },
      "execution_count": 14,
      "outputs": []
    },
    {
      "cell_type": "code",
      "source": [
        "nodes_to_visit= ['tattapani', 'shimla', 'waknaghat', 'solan', 'chandigarh']\n",
        "shortest_path, shortest_path_length= find_shortest_path(graph, nodes_to_visit)\n",
        "print(\"Shortest Path:\", shortest_path)\n",
        "print(\"Shortest Path Length:\", shortest_path_length)"
      ],
      "metadata": {
        "colab": {
          "base_uri": "https://localhost:8080/"
        },
        "id": "55K9ZsKJMH98",
        "outputId": "c995b77a-30d1-41aa-b5b7-a3a813187cfe"
      },
      "execution_count": 15,
      "outputs": [
        {
          "output_type": "stream",
          "name": "stdout",
          "text": [
            "Shortest Path: ('tattapani', 'shimla', 'waknaghat', 'solan', 'chandigarh')\n",
            "Shortest Path Length: 171.0\n"
          ]
        }
      ]
    },
    {
      "cell_type": "code",
      "source": [
        "coordinates ={\n",
        "    'tattapani': [31.2488, 77.0895],\n",
        "    'shimla': [31.1050, 77.164],\n",
        "    'waknaghat': [31.0079, 77.0881],\n",
        "    'solan': [30.9084, 77.0999],\n",
        "    'chandigarh': [30.733, 76.7794]\n",
        "}\n",
        "\n",
        "map_center = [(coordinates['tattapani'][0] + coordinates['chandigarh'][0]) / 2, (coordinates['tattapani'][1] + coordinates['chandigarh'][1]) / 2]\n",
        "\n",
        "mymap= folium.Map(location=map_center, zoom_start=5)\n",
        "\n",
        "#markers\n",
        "for location, coord in coordinates.items():\n",
        "    folium.Marker(location=coord, popup=location).add_to(mymap)\n",
        "\n",
        "path_coordinates = [coordinates[node] for node in shortest_path]\n",
        "\n",
        "folium.PolyLine(locations=path_coordinates, color='blue', weight=2.5, opacity=1).add_to(mymap)\n",
        "\n",
        "mymap.save('map.html')\n",
        "\n",
        "mymap\n"
      ],
      "metadata": {
        "colab": {
          "base_uri": "https://localhost:8080/",
          "height": 641
        },
        "id": "BzzvSyzoMIAM",
        "outputId": "9d6dc0a0-0b1d-42f3-cd5e-1f041d1be141"
      },
      "execution_count": 17,
      "outputs": [
        {
          "output_type": "execute_result",
          "data": {
            "text/plain": [
              "<folium.folium.Map at 0x79aab22d00d0>"
            ],
            "text/html": [
              "<div style=\"width:100%;\"><div style=\"position:relative;width:100%;height:0;padding-bottom:60%;\"><span style=\"color:#565656\">Make this Notebook Trusted to load map: File -> Trust Notebook</span><iframe srcdoc=\"&lt;!DOCTYPE html&gt;\n",
              "&lt;html&gt;\n",
              "&lt;head&gt;\n",
              "    \n",
              "    &lt;meta http-equiv=&quot;content-type&quot; content=&quot;text/html; charset=UTF-8&quot; /&gt;\n",
              "    \n",
              "        &lt;script&gt;\n",
              "            L_NO_TOUCH = false;\n",
              "            L_DISABLE_3D = false;\n",
              "        &lt;/script&gt;\n",
              "    \n",
              "    &lt;style&gt;html, body {width: 100%;height: 100%;margin: 0;padding: 0;}&lt;/style&gt;\n",
              "    &lt;style&gt;#map {position:absolute;top:0;bottom:0;right:0;left:0;}&lt;/style&gt;\n",
              "    &lt;script src=&quot;https://cdn.jsdelivr.net/npm/leaflet@1.9.3/dist/leaflet.js&quot;&gt;&lt;/script&gt;\n",
              "    &lt;script src=&quot;https://code.jquery.com/jquery-3.7.1.min.js&quot;&gt;&lt;/script&gt;\n",
              "    &lt;script src=&quot;https://cdn.jsdelivr.net/npm/bootstrap@5.2.2/dist/js/bootstrap.bundle.min.js&quot;&gt;&lt;/script&gt;\n",
              "    &lt;script src=&quot;https://cdnjs.cloudflare.com/ajax/libs/Leaflet.awesome-markers/2.0.2/leaflet.awesome-markers.js&quot;&gt;&lt;/script&gt;\n",
              "    &lt;link rel=&quot;stylesheet&quot; href=&quot;https://cdn.jsdelivr.net/npm/leaflet@1.9.3/dist/leaflet.css&quot;/&gt;\n",
              "    &lt;link rel=&quot;stylesheet&quot; href=&quot;https://cdn.jsdelivr.net/npm/bootstrap@5.2.2/dist/css/bootstrap.min.css&quot;/&gt;\n",
              "    &lt;link rel=&quot;stylesheet&quot; href=&quot;https://netdna.bootstrapcdn.com/bootstrap/3.0.0/css/bootstrap-glyphicons.css&quot;/&gt;\n",
              "    &lt;link rel=&quot;stylesheet&quot; href=&quot;https://cdn.jsdelivr.net/npm/@fortawesome/fontawesome-free@6.2.0/css/all.min.css&quot;/&gt;\n",
              "    &lt;link rel=&quot;stylesheet&quot; href=&quot;https://cdnjs.cloudflare.com/ajax/libs/Leaflet.awesome-markers/2.0.2/leaflet.awesome-markers.css&quot;/&gt;\n",
              "    &lt;link rel=&quot;stylesheet&quot; href=&quot;https://cdn.jsdelivr.net/gh/python-visualization/folium/folium/templates/leaflet.awesome.rotate.min.css&quot;/&gt;\n",
              "    \n",
              "            &lt;meta name=&quot;viewport&quot; content=&quot;width=device-width,\n",
              "                initial-scale=1.0, maximum-scale=1.0, user-scalable=no&quot; /&gt;\n",
              "            &lt;style&gt;\n",
              "                #map_f6da97b8a1718bdd34385855627585db {\n",
              "                    position: relative;\n",
              "                    width: 100.0%;\n",
              "                    height: 100.0%;\n",
              "                    left: 0.0%;\n",
              "                    top: 0.0%;\n",
              "                }\n",
              "                .leaflet-container { font-size: 1rem; }\n",
              "            &lt;/style&gt;\n",
              "        \n",
              "&lt;/head&gt;\n",
              "&lt;body&gt;\n",
              "    \n",
              "    \n",
              "            &lt;div class=&quot;folium-map&quot; id=&quot;map_f6da97b8a1718bdd34385855627585db&quot; &gt;&lt;/div&gt;\n",
              "        \n",
              "&lt;/body&gt;\n",
              "&lt;script&gt;\n",
              "    \n",
              "    \n",
              "            var map_f6da97b8a1718bdd34385855627585db = L.map(\n",
              "                &quot;map_f6da97b8a1718bdd34385855627585db&quot;,\n",
              "                {\n",
              "                    center: [30.9909, 76.93445],\n",
              "                    crs: L.CRS.EPSG3857,\n",
              "                    zoom: 5,\n",
              "                    zoomControl: true,\n",
              "                    preferCanvas: false,\n",
              "                }\n",
              "            );\n",
              "\n",
              "            \n",
              "\n",
              "        \n",
              "    \n",
              "            var tile_layer_9b0234726b58b13bf3a210d0a6fb2e5d = L.tileLayer(\n",
              "                &quot;https://tile.openstreetmap.org/{z}/{x}/{y}.png&quot;,\n",
              "                {&quot;attribution&quot;: &quot;\\u0026copy; \\u003ca href=\\&quot;https://www.openstreetmap.org/copyright\\&quot;\\u003eOpenStreetMap\\u003c/a\\u003e contributors&quot;, &quot;detectRetina&quot;: false, &quot;maxNativeZoom&quot;: 19, &quot;maxZoom&quot;: 19, &quot;minZoom&quot;: 0, &quot;noWrap&quot;: false, &quot;opacity&quot;: 1, &quot;subdomains&quot;: &quot;abc&quot;, &quot;tms&quot;: false}\n",
              "            );\n",
              "        \n",
              "    \n",
              "            tile_layer_9b0234726b58b13bf3a210d0a6fb2e5d.addTo(map_f6da97b8a1718bdd34385855627585db);\n",
              "        \n",
              "    \n",
              "            var marker_fb22b9dc62d3fcbff775145ae586565b = L.marker(\n",
              "                [31.2488, 77.0895],\n",
              "                {}\n",
              "            ).addTo(map_f6da97b8a1718bdd34385855627585db);\n",
              "        \n",
              "    \n",
              "        var popup_6d2e195ed8c98b48474e4a2896a23961 = L.popup({&quot;maxWidth&quot;: &quot;100%&quot;});\n",
              "\n",
              "        \n",
              "            \n",
              "                var html_0b47a03241d8a9b7c5f4023ef336f9f2 = $(`&lt;div id=&quot;html_0b47a03241d8a9b7c5f4023ef336f9f2&quot; style=&quot;width: 100.0%; height: 100.0%;&quot;&gt;tattapani&lt;/div&gt;`)[0];\n",
              "                popup_6d2e195ed8c98b48474e4a2896a23961.setContent(html_0b47a03241d8a9b7c5f4023ef336f9f2);\n",
              "            \n",
              "        \n",
              "\n",
              "        marker_fb22b9dc62d3fcbff775145ae586565b.bindPopup(popup_6d2e195ed8c98b48474e4a2896a23961)\n",
              "        ;\n",
              "\n",
              "        \n",
              "    \n",
              "    \n",
              "            var marker_5b82049f29e46cf35587970039935a38 = L.marker(\n",
              "                [31.105, 77.164],\n",
              "                {}\n",
              "            ).addTo(map_f6da97b8a1718bdd34385855627585db);\n",
              "        \n",
              "    \n",
              "        var popup_8b186a53d3840e552b64d46aefdeadb2 = L.popup({&quot;maxWidth&quot;: &quot;100%&quot;});\n",
              "\n",
              "        \n",
              "            \n",
              "                var html_b0942c7f0ca26390109e628b5a4b209a = $(`&lt;div id=&quot;html_b0942c7f0ca26390109e628b5a4b209a&quot; style=&quot;width: 100.0%; height: 100.0%;&quot;&gt;shimla&lt;/div&gt;`)[0];\n",
              "                popup_8b186a53d3840e552b64d46aefdeadb2.setContent(html_b0942c7f0ca26390109e628b5a4b209a);\n",
              "            \n",
              "        \n",
              "\n",
              "        marker_5b82049f29e46cf35587970039935a38.bindPopup(popup_8b186a53d3840e552b64d46aefdeadb2)\n",
              "        ;\n",
              "\n",
              "        \n",
              "    \n",
              "    \n",
              "            var marker_5abeffd9a2233e3eb3a4524d93a85a5c = L.marker(\n",
              "                [31.0079, 77.0881],\n",
              "                {}\n",
              "            ).addTo(map_f6da97b8a1718bdd34385855627585db);\n",
              "        \n",
              "    \n",
              "        var popup_ba5dadc3818145a4b1d72a85b6ced4a3 = L.popup({&quot;maxWidth&quot;: &quot;100%&quot;});\n",
              "\n",
              "        \n",
              "            \n",
              "                var html_133236c88e6d74bd98c7b2801f257592 = $(`&lt;div id=&quot;html_133236c88e6d74bd98c7b2801f257592&quot; style=&quot;width: 100.0%; height: 100.0%;&quot;&gt;waknaghat&lt;/div&gt;`)[0];\n",
              "                popup_ba5dadc3818145a4b1d72a85b6ced4a3.setContent(html_133236c88e6d74bd98c7b2801f257592);\n",
              "            \n",
              "        \n",
              "\n",
              "        marker_5abeffd9a2233e3eb3a4524d93a85a5c.bindPopup(popup_ba5dadc3818145a4b1d72a85b6ced4a3)\n",
              "        ;\n",
              "\n",
              "        \n",
              "    \n",
              "    \n",
              "            var marker_40d41acce1e784f22b919c3ace05db8c = L.marker(\n",
              "                [30.9084, 77.0999],\n",
              "                {}\n",
              "            ).addTo(map_f6da97b8a1718bdd34385855627585db);\n",
              "        \n",
              "    \n",
              "        var popup_6c957a8dbea9d8cf2289b255f3951340 = L.popup({&quot;maxWidth&quot;: &quot;100%&quot;});\n",
              "\n",
              "        \n",
              "            \n",
              "                var html_ab316a81d8f39e75b94e4146c24caceb = $(`&lt;div id=&quot;html_ab316a81d8f39e75b94e4146c24caceb&quot; style=&quot;width: 100.0%; height: 100.0%;&quot;&gt;solan&lt;/div&gt;`)[0];\n",
              "                popup_6c957a8dbea9d8cf2289b255f3951340.setContent(html_ab316a81d8f39e75b94e4146c24caceb);\n",
              "            \n",
              "        \n",
              "\n",
              "        marker_40d41acce1e784f22b919c3ace05db8c.bindPopup(popup_6c957a8dbea9d8cf2289b255f3951340)\n",
              "        ;\n",
              "\n",
              "        \n",
              "    \n",
              "    \n",
              "            var marker_cc39d88d9818e674a33eee0ed183b3bb = L.marker(\n",
              "                [30.733, 76.7794],\n",
              "                {}\n",
              "            ).addTo(map_f6da97b8a1718bdd34385855627585db);\n",
              "        \n",
              "    \n",
              "        var popup_1f6a65ce470767b4b86db3904b9a7fe6 = L.popup({&quot;maxWidth&quot;: &quot;100%&quot;});\n",
              "\n",
              "        \n",
              "            \n",
              "                var html_344701a53b090629404ace16b9c2799e = $(`&lt;div id=&quot;html_344701a53b090629404ace16b9c2799e&quot; style=&quot;width: 100.0%; height: 100.0%;&quot;&gt;chandigarh&lt;/div&gt;`)[0];\n",
              "                popup_1f6a65ce470767b4b86db3904b9a7fe6.setContent(html_344701a53b090629404ace16b9c2799e);\n",
              "            \n",
              "        \n",
              "\n",
              "        marker_cc39d88d9818e674a33eee0ed183b3bb.bindPopup(popup_1f6a65ce470767b4b86db3904b9a7fe6)\n",
              "        ;\n",
              "\n",
              "        \n",
              "    \n",
              "    \n",
              "            var poly_line_405f39bc4ddd9cd03ac43d827b2dddb0 = L.polyline(\n",
              "                [[31.2488, 77.0895], [31.105, 77.164], [31.0079, 77.0881], [30.9084, 77.0999], [30.733, 76.7794]],\n",
              "                {&quot;bubblingMouseEvents&quot;: true, &quot;color&quot;: &quot;blue&quot;, &quot;dashArray&quot;: null, &quot;dashOffset&quot;: null, &quot;fill&quot;: false, &quot;fillColor&quot;: &quot;blue&quot;, &quot;fillOpacity&quot;: 0.2, &quot;fillRule&quot;: &quot;evenodd&quot;, &quot;lineCap&quot;: &quot;round&quot;, &quot;lineJoin&quot;: &quot;round&quot;, &quot;noClip&quot;: false, &quot;opacity&quot;: 1, &quot;smoothFactor&quot;: 1.0, &quot;stroke&quot;: true, &quot;weight&quot;: 2.5}\n",
              "            ).addTo(map_f6da97b8a1718bdd34385855627585db);\n",
              "        \n",
              "    \n",
              "            tile_layer_9b0234726b58b13bf3a210d0a6fb2e5d.addTo(map_f6da97b8a1718bdd34385855627585db);\n",
              "        \n",
              "&lt;/script&gt;\n",
              "&lt;/html&gt;\" style=\"position:absolute;width:100%;height:100%;left:0;top:0;border:none !important;\" allowfullscreen webkitallowfullscreen mozallowfullscreen></iframe></div></div>"
            ]
          },
          "metadata": {},
          "execution_count": 17
        }
      ]
    },
    {
      "cell_type": "code",
      "source": [],
      "metadata": {
        "id": "XbJkJ7EyMICa"
      },
      "execution_count": null,
      "outputs": []
    },
    {
      "cell_type": "code",
      "source": [],
      "metadata": {
        "id": "ufQG1iExMIE9"
      },
      "execution_count": null,
      "outputs": []
    },
    {
      "cell_type": "code",
      "source": [],
      "metadata": {
        "id": "w7rbRjRAMIHC"
      },
      "execution_count": null,
      "outputs": []
    },
    {
      "cell_type": "code",
      "source": [],
      "metadata": {
        "id": "n90aFd1FMIJr"
      },
      "execution_count": null,
      "outputs": []
    },
    {
      "cell_type": "code",
      "source": [],
      "metadata": {
        "id": "anp2IV1GMIME"
      },
      "execution_count": null,
      "outputs": []
    },
    {
      "cell_type": "code",
      "source": [],
      "metadata": {
        "id": "c5X7C-oFL1DQ"
      },
      "execution_count": null,
      "outputs": []
    },
    {
      "cell_type": "code",
      "source": [],
      "metadata": {
        "id": "e5BhGRksL1Ge"
      },
      "execution_count": null,
      "outputs": []
    }
  ]
}