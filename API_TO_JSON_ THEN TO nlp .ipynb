{
  "nbformat": 4,
  "nbformat_minor": 0,
  "metadata": {
    "colab": {
      "provenance": [],
      "authorship_tag": "ABX9TyOmfTC732S7ypnOvpZx7Hg5",
      "include_colab_link": true
    },
    "kernelspec": {
      "name": "python3",
      "display_name": "Python 3"
    },
    "language_info": {
      "name": "python"
    }
  },
  "cells": [
    {
      "cell_type": "markdown",
      "metadata": {
        "id": "view-in-github",
        "colab_type": "text"
      },
      "source": [
        "<a href=\"https://colab.research.google.com/github/Ashi743/my_projects-/blob/main/API_TO_JSON_%20THEN%20TO%20nlp%20.ipynb\" target=\"_parent\"><img src=\"https://colab.research.google.com/assets/colab-badge.svg\" alt=\"Open In Colab\"/></a>"
      ]
    },
    {
      "cell_type": "code",
      "execution_count": 3,
      "metadata": {
        "id": "4sWq9uRgr9SB"
      },
      "outputs": [],
      "source": [
        "import  requests\n",
        "import pandas as pd\n",
        "\n",
        "url = \"https://api.themoviedb.org/3/movie/top_rated?api_key=8265bd1679663a7ea12ac168da84d2e8&language=en-US&page=1\"\n",
        "response = requests.get(url)\n",
        "data= response.json()\n",
        "\n",
        "df= pd.DataFrame(data['results'])[['id','genre_ids','original_title','original_language','overview','popularity',\n",
        "                                   'vote_average','vote_count','adult']]\n"
      ]
    },
    {
      "cell_type": "code",
      "source": [
        "df_final= pd.DataFrame()\n",
        "for i in range(1,482):\n",
        "    url = \"https://api.themoviedb.org/3/movie/top_rated?api_key=8265bd1679663a7ea12ac168da84d2e8&language=en-US&page=1\"\n",
        "    response = requests.get(url)\n",
        "    data= response.json()\n",
        "    df= pd.DataFrame(data['results'])[['id','genre_ids','original_title','original_language','overview','popularity',\n",
        "                                   'vote_average','vote_count','adult']]\n",
        "    df_final= pd.concat([df_final,df],ignore_index=True)"
      ],
      "metadata": {
        "id": "ow5sgVfeLVmK"
      },
      "execution_count": 9,
      "outputs": []
    },
    {
      "cell_type": "code",
      "source": [
        "df_final.shape"
      ],
      "metadata": {
        "colab": {
          "base_uri": "https://localhost:8080/"
        },
        "id": "smmd-5FtL8Zn",
        "outputId": "27a1c521-42cb-48ca-92c7-de292971b770"
      },
      "execution_count": 11,
      "outputs": [
        {
          "output_type": "execute_result",
          "data": {
            "text/plain": [
              "(9620, 9)"
            ]
          },
          "metadata": {},
          "execution_count": 11
        }
      ]
    },
    {
      "cell_type": "code",
      "source": [
        "import  requests\n",
        "\n",
        "url = \"https://api.themoviedb.org/3/genre/movie/list?api_key=8265bd1679663a7ea12ac168da84d2e8&language=en-US\"\n",
        "response = requests.get(url)\n",
        "data= response.json()\n",
        "data=data['genres']\n",
        "\n",
        "\n",
        "\n",
        "import pandas as pd\n",
        "df_genre = pd.DataFrame(data)\n",
        "\n",
        "# Renaming the 'id' column to 'genre_ids' in df_genre\n",
        "df_genre.rename(columns={\"id\": \"genre_ids\"}, inplace=True)\n",
        "\n",
        "# Renaming the 'name' column to 'genre_name' in df_genre\n",
        "df_genre.rename(columns={\"name\": \"genre_name\"}, inplace=True)\n"
      ],
      "metadata": {
        "id": "s8TMJeWQL4qN"
      },
      "execution_count": 42,
      "outputs": []
    },
    {
      "cell_type": "code",
      "source": [
        "genre_dict = dict(zip(df_genre['genre_ids'], df_genre['name']))"
      ],
      "metadata": {
        "id": "XF0iUrpsYE04"
      },
      "execution_count": 44,
      "outputs": []
    },
    {
      "cell_type": "code",
      "source": [
        "def map_genres(genre_list):\n",
        "    return [genre_dict.get(genre_id, 'Unknown') for genre_id in genre_list]\n",
        "\n",
        "# Step 3: Apply the function to the genre_ids column in df_final\n",
        "df_final['genre_names'] = df_final['genre_ids'].apply(map_genres)\n"
      ],
      "metadata": {
        "id": "h4F0Q_REYEjl"
      },
      "execution_count": 49,
      "outputs": []
    },
    {
      "cell_type": "code",
      "source": [
        "df_final.columns"
      ],
      "metadata": {
        "colab": {
          "base_uri": "https://localhost:8080/"
        },
        "id": "682yEA3cZzTz",
        "outputId": "e2b3aaab-7e6e-4be1-e8b2-c7c60be81132"
      },
      "execution_count": 51,
      "outputs": [
        {
          "output_type": "execute_result",
          "data": {
            "text/plain": [
              "Index(['id', 'genre_ids', 'original_title', 'original_language', 'overview',\n",
              "       'popularity', 'vote_average', 'vote_count', 'adult', 'genre_names'],\n",
              "      dtype='object')"
            ]
          },
          "metadata": {},
          "execution_count": 51
        }
      ]
    },
    {
      "cell_type": "code",
      "source": [
        "df_campusx= df_final[[ 'original_title',  'overview', 'genre_names' ]]"
      ],
      "metadata": {
        "id": "FafdqP1dZ5lj"
      },
      "execution_count": 53,
      "outputs": []
    },
    {
      "cell_type": "code",
      "source": [
        "df_campusx.to_csv('movies_assignment.csv')"
      ],
      "metadata": {
        "id": "Uu2Pgx65axUn"
      },
      "execution_count": 56,
      "outputs": []
    }
  ]
}