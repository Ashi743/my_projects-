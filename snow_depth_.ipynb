{
  "nbformat": 4,
  "nbformat_minor": 0,
  "metadata": {
    "colab": {
      "provenance": [],
      "authorship_tag": "ABX9TyMzDPcOywcDDC9rh3WXP/Kj",
      "include_colab_link": true
    },
    "kernelspec": {
      "name": "python3",
      "display_name": "Python 3"
    },
    "language_info": {
      "name": "python"
    }
  },
  "cells": [
    {
      "cell_type": "markdown",
      "metadata": {
        "id": "view-in-github",
        "colab_type": "text"
      },
      "source": [
        "<a href=\"https://colab.research.google.com/github/Ashi743/my_projects-/blob/main/snow_depth_.ipynb\" target=\"_parent\"><img src=\"https://colab.research.google.com/assets/colab-badge.svg\" alt=\"Open In Colab\"/></a>"
      ]
    },
    {
      "cell_type": "code",
      "execution_count": 1,
      "metadata": {
        "id": "36DNTC94rX-v"
      },
      "outputs": [],
      "source": [
        "import folium\n",
        "import geopy\n",
        "import pandas as pd\n",
        "from folium.plugins import HeatMap\n",
        "from geopy.geocoders import Nominatim"
      ]
    },
    {
      "cell_type": "code",
      "source": [
        "import kagglehub\n",
        "\n",
        "# Download latest version\n",
        "path = kagglehub.dataset_download(\"eaturner/nycweather\")\n",
        "\n",
        "print(\"Path to dataset files:\", path)\n"
      ],
      "metadata": {
        "colab": {
          "base_uri": "https://localhost:8080/"
        },
        "id": "yrkbvUiI1XCb",
        "outputId": "895d75c1-a2bf-4dea-e129-50e209f3d37f"
      },
      "execution_count": 2,
      "outputs": [
        {
          "output_type": "stream",
          "name": "stdout",
          "text": [
            "Downloading from https://www.kaggle.com/api/v1/datasets/download/eaturner/nycweather?dataset_version_number=1...\n"
          ]
        },
        {
          "output_type": "stream",
          "name": "stderr",
          "text": [
            "100%|██████████| 152k/152k [00:00<00:00, 487kB/s]"
          ]
        },
        {
          "output_type": "stream",
          "name": "stdout",
          "text": [
            "Extracting files...\n",
            "Path to dataset files: /root/.cache/kagglehub/datasets/eaturner/nycweather/versions/1\n"
          ]
        },
        {
          "output_type": "stream",
          "name": "stderr",
          "text": [
            "\n"
          ]
        }
      ]
    },
    {
      "cell_type": "code",
      "source": [
        "import os\n",
        "\n",
        "# Define the dataset path\n",
        "dataset_path = '/root/.cache/kagglehub/datasets/eaturner/nycweather/versions/1'\n",
        "\n",
        "# List all files\n",
        "files = os.listdir(dataset_path)\n",
        "print(\"Files in the dataset directory:\", files)\n"
      ],
      "metadata": {
        "colab": {
          "base_uri": "https://localhost:8080/"
        },
        "id": "BlFjBkwh1XFA",
        "outputId": "392ccd38-a175-45f4-8775-23f9b89f1fa2"
      },
      "execution_count": 3,
      "outputs": [
        {
          "output_type": "stream",
          "name": "stdout",
          "text": [
            "Files in the dataset directory: ['nyc_Jan_Jun_2016_weat.csv']\n"
          ]
        }
      ]
    },
    {
      "cell_type": "code",
      "source": [
        "import pandas as pd\n",
        "\n",
        "# Load a specific CSV file (adjust filename as needed)\n",
        "csv_file = os.path.join(dataset_path, 'nyc_Jan_Jun_2016_weat.csv')\n",
        "data = pd.read_csv(csv_file)\n",
        "\n",
        "data.head()\n"
      ],
      "metadata": {
        "colab": {
          "base_uri": "https://localhost:8080/",
          "height": 206
        },
        "id": "atujzela20Qx",
        "outputId": "2d8e38d1-e6b3-418f-ecfe-53367ffc778d"
      },
      "execution_count": 5,
      "outputs": [
        {
          "output_type": "execute_result",
          "data": {
            "text/plain": [
              "       DATE  LATITUDE  LONGITUDE  SNOW  PRCP    SNWD  TAVG  TMAX  TMIN\n",
              "0  20160101   41.0639   -73.7722   0.0   0.0 -9999.0 -9999 -9999 -9999\n",
              "1  20160102   41.0639   -73.7722   0.0   0.0 -9999.0 -9999 -9999 -9999\n",
              "2  20160103   41.0639   -73.7722   0.0   0.0 -9999.0 -9999 -9999 -9999\n",
              "3  20160104   41.0639   -73.7722   0.0   0.0 -9999.0 -9999 -9999 -9999\n",
              "4  20160105   41.0639   -73.7722   0.0   0.0 -9999.0 -9999 -9999 -9999"
            ],
            "text/html": [
              "\n",
              "  <div id=\"df-f227e4ec-9ede-4dc0-a3ef-da329521be23\" class=\"colab-df-container\">\n",
              "    <div>\n",
              "<style scoped>\n",
              "    .dataframe tbody tr th:only-of-type {\n",
              "        vertical-align: middle;\n",
              "    }\n",
              "\n",
              "    .dataframe tbody tr th {\n",
              "        vertical-align: top;\n",
              "    }\n",
              "\n",
              "    .dataframe thead th {\n",
              "        text-align: right;\n",
              "    }\n",
              "</style>\n",
              "<table border=\"1\" class=\"dataframe\">\n",
              "  <thead>\n",
              "    <tr style=\"text-align: right;\">\n",
              "      <th></th>\n",
              "      <th>DATE</th>\n",
              "      <th>LATITUDE</th>\n",
              "      <th>LONGITUDE</th>\n",
              "      <th>SNOW</th>\n",
              "      <th>PRCP</th>\n",
              "      <th>SNWD</th>\n",
              "      <th>TAVG</th>\n",
              "      <th>TMAX</th>\n",
              "      <th>TMIN</th>\n",
              "    </tr>\n",
              "  </thead>\n",
              "  <tbody>\n",
              "    <tr>\n",
              "      <th>0</th>\n",
              "      <td>20160101</td>\n",
              "      <td>41.0639</td>\n",
              "      <td>-73.7722</td>\n",
              "      <td>0.0</td>\n",
              "      <td>0.0</td>\n",
              "      <td>-9999.0</td>\n",
              "      <td>-9999</td>\n",
              "      <td>-9999</td>\n",
              "      <td>-9999</td>\n",
              "    </tr>\n",
              "    <tr>\n",
              "      <th>1</th>\n",
              "      <td>20160102</td>\n",
              "      <td>41.0639</td>\n",
              "      <td>-73.7722</td>\n",
              "      <td>0.0</td>\n",
              "      <td>0.0</td>\n",
              "      <td>-9999.0</td>\n",
              "      <td>-9999</td>\n",
              "      <td>-9999</td>\n",
              "      <td>-9999</td>\n",
              "    </tr>\n",
              "    <tr>\n",
              "      <th>2</th>\n",
              "      <td>20160103</td>\n",
              "      <td>41.0639</td>\n",
              "      <td>-73.7722</td>\n",
              "      <td>0.0</td>\n",
              "      <td>0.0</td>\n",
              "      <td>-9999.0</td>\n",
              "      <td>-9999</td>\n",
              "      <td>-9999</td>\n",
              "      <td>-9999</td>\n",
              "    </tr>\n",
              "    <tr>\n",
              "      <th>3</th>\n",
              "      <td>20160104</td>\n",
              "      <td>41.0639</td>\n",
              "      <td>-73.7722</td>\n",
              "      <td>0.0</td>\n",
              "      <td>0.0</td>\n",
              "      <td>-9999.0</td>\n",
              "      <td>-9999</td>\n",
              "      <td>-9999</td>\n",
              "      <td>-9999</td>\n",
              "    </tr>\n",
              "    <tr>\n",
              "      <th>4</th>\n",
              "      <td>20160105</td>\n",
              "      <td>41.0639</td>\n",
              "      <td>-73.7722</td>\n",
              "      <td>0.0</td>\n",
              "      <td>0.0</td>\n",
              "      <td>-9999.0</td>\n",
              "      <td>-9999</td>\n",
              "      <td>-9999</td>\n",
              "      <td>-9999</td>\n",
              "    </tr>\n",
              "  </tbody>\n",
              "</table>\n",
              "</div>\n",
              "    <div class=\"colab-df-buttons\">\n",
              "\n",
              "  <div class=\"colab-df-container\">\n",
              "    <button class=\"colab-df-convert\" onclick=\"convertToInteractive('df-f227e4ec-9ede-4dc0-a3ef-da329521be23')\"\n",
              "            title=\"Convert this dataframe to an interactive table.\"\n",
              "            style=\"display:none;\">\n",
              "\n",
              "  <svg xmlns=\"http://www.w3.org/2000/svg\" height=\"24px\" viewBox=\"0 -960 960 960\">\n",
              "    <path d=\"M120-120v-720h720v720H120Zm60-500h600v-160H180v160Zm220 220h160v-160H400v160Zm0 220h160v-160H400v160ZM180-400h160v-160H180v160Zm440 0h160v-160H620v160ZM180-180h160v-160H180v160Zm440 0h160v-160H620v160Z\"/>\n",
              "  </svg>\n",
              "    </button>\n",
              "\n",
              "  <style>\n",
              "    .colab-df-container {\n",
              "      display:flex;\n",
              "      gap: 12px;\n",
              "    }\n",
              "\n",
              "    .colab-df-convert {\n",
              "      background-color: #E8F0FE;\n",
              "      border: none;\n",
              "      border-radius: 50%;\n",
              "      cursor: pointer;\n",
              "      display: none;\n",
              "      fill: #1967D2;\n",
              "      height: 32px;\n",
              "      padding: 0 0 0 0;\n",
              "      width: 32px;\n",
              "    }\n",
              "\n",
              "    .colab-df-convert:hover {\n",
              "      background-color: #E2EBFA;\n",
              "      box-shadow: 0px 1px 2px rgba(60, 64, 67, 0.3), 0px 1px 3px 1px rgba(60, 64, 67, 0.15);\n",
              "      fill: #174EA6;\n",
              "    }\n",
              "\n",
              "    .colab-df-buttons div {\n",
              "      margin-bottom: 4px;\n",
              "    }\n",
              "\n",
              "    [theme=dark] .colab-df-convert {\n",
              "      background-color: #3B4455;\n",
              "      fill: #D2E3FC;\n",
              "    }\n",
              "\n",
              "    [theme=dark] .colab-df-convert:hover {\n",
              "      background-color: #434B5C;\n",
              "      box-shadow: 0px 1px 3px 1px rgba(0, 0, 0, 0.15);\n",
              "      filter: drop-shadow(0px 1px 2px rgba(0, 0, 0, 0.3));\n",
              "      fill: #FFFFFF;\n",
              "    }\n",
              "  </style>\n",
              "\n",
              "    <script>\n",
              "      const buttonEl =\n",
              "        document.querySelector('#df-f227e4ec-9ede-4dc0-a3ef-da329521be23 button.colab-df-convert');\n",
              "      buttonEl.style.display =\n",
              "        google.colab.kernel.accessAllowed ? 'block' : 'none';\n",
              "\n",
              "      async function convertToInteractive(key) {\n",
              "        const element = document.querySelector('#df-f227e4ec-9ede-4dc0-a3ef-da329521be23');\n",
              "        const dataTable =\n",
              "          await google.colab.kernel.invokeFunction('convertToInteractive',\n",
              "                                                    [key], {});\n",
              "        if (!dataTable) return;\n",
              "\n",
              "        const docLinkHtml = 'Like what you see? Visit the ' +\n",
              "          '<a target=\"_blank\" href=https://colab.research.google.com/notebooks/data_table.ipynb>data table notebook</a>'\n",
              "          + ' to learn more about interactive tables.';\n",
              "        element.innerHTML = '';\n",
              "        dataTable['output_type'] = 'display_data';\n",
              "        await google.colab.output.renderOutput(dataTable, element);\n",
              "        const docLink = document.createElement('div');\n",
              "        docLink.innerHTML = docLinkHtml;\n",
              "        element.appendChild(docLink);\n",
              "      }\n",
              "    </script>\n",
              "  </div>\n",
              "\n",
              "\n",
              "<div id=\"df-7d8a3f92-a6c7-46f1-b650-2be9fe913795\">\n",
              "  <button class=\"colab-df-quickchart\" onclick=\"quickchart('df-7d8a3f92-a6c7-46f1-b650-2be9fe913795')\"\n",
              "            title=\"Suggest charts\"\n",
              "            style=\"display:none;\">\n",
              "\n",
              "<svg xmlns=\"http://www.w3.org/2000/svg\" height=\"24px\"viewBox=\"0 0 24 24\"\n",
              "     width=\"24px\">\n",
              "    <g>\n",
              "        <path d=\"M19 3H5c-1.1 0-2 .9-2 2v14c0 1.1.9 2 2 2h14c1.1 0 2-.9 2-2V5c0-1.1-.9-2-2-2zM9 17H7v-7h2v7zm4 0h-2V7h2v10zm4 0h-2v-4h2v4z\"/>\n",
              "    </g>\n",
              "</svg>\n",
              "  </button>\n",
              "\n",
              "<style>\n",
              "  .colab-df-quickchart {\n",
              "      --bg-color: #E8F0FE;\n",
              "      --fill-color: #1967D2;\n",
              "      --hover-bg-color: #E2EBFA;\n",
              "      --hover-fill-color: #174EA6;\n",
              "      --disabled-fill-color: #AAA;\n",
              "      --disabled-bg-color: #DDD;\n",
              "  }\n",
              "\n",
              "  [theme=dark] .colab-df-quickchart {\n",
              "      --bg-color: #3B4455;\n",
              "      --fill-color: #D2E3FC;\n",
              "      --hover-bg-color: #434B5C;\n",
              "      --hover-fill-color: #FFFFFF;\n",
              "      --disabled-bg-color: #3B4455;\n",
              "      --disabled-fill-color: #666;\n",
              "  }\n",
              "\n",
              "  .colab-df-quickchart {\n",
              "    background-color: var(--bg-color);\n",
              "    border: none;\n",
              "    border-radius: 50%;\n",
              "    cursor: pointer;\n",
              "    display: none;\n",
              "    fill: var(--fill-color);\n",
              "    height: 32px;\n",
              "    padding: 0;\n",
              "    width: 32px;\n",
              "  }\n",
              "\n",
              "  .colab-df-quickchart:hover {\n",
              "    background-color: var(--hover-bg-color);\n",
              "    box-shadow: 0 1px 2px rgba(60, 64, 67, 0.3), 0 1px 3px 1px rgba(60, 64, 67, 0.15);\n",
              "    fill: var(--button-hover-fill-color);\n",
              "  }\n",
              "\n",
              "  .colab-df-quickchart-complete:disabled,\n",
              "  .colab-df-quickchart-complete:disabled:hover {\n",
              "    background-color: var(--disabled-bg-color);\n",
              "    fill: var(--disabled-fill-color);\n",
              "    box-shadow: none;\n",
              "  }\n",
              "\n",
              "  .colab-df-spinner {\n",
              "    border: 2px solid var(--fill-color);\n",
              "    border-color: transparent;\n",
              "    border-bottom-color: var(--fill-color);\n",
              "    animation:\n",
              "      spin 1s steps(1) infinite;\n",
              "  }\n",
              "\n",
              "  @keyframes spin {\n",
              "    0% {\n",
              "      border-color: transparent;\n",
              "      border-bottom-color: var(--fill-color);\n",
              "      border-left-color: var(--fill-color);\n",
              "    }\n",
              "    20% {\n",
              "      border-color: transparent;\n",
              "      border-left-color: var(--fill-color);\n",
              "      border-top-color: var(--fill-color);\n",
              "    }\n",
              "    30% {\n",
              "      border-color: transparent;\n",
              "      border-left-color: var(--fill-color);\n",
              "      border-top-color: var(--fill-color);\n",
              "      border-right-color: var(--fill-color);\n",
              "    }\n",
              "    40% {\n",
              "      border-color: transparent;\n",
              "      border-right-color: var(--fill-color);\n",
              "      border-top-color: var(--fill-color);\n",
              "    }\n",
              "    60% {\n",
              "      border-color: transparent;\n",
              "      border-right-color: var(--fill-color);\n",
              "    }\n",
              "    80% {\n",
              "      border-color: transparent;\n",
              "      border-right-color: var(--fill-color);\n",
              "      border-bottom-color: var(--fill-color);\n",
              "    }\n",
              "    90% {\n",
              "      border-color: transparent;\n",
              "      border-bottom-color: var(--fill-color);\n",
              "    }\n",
              "  }\n",
              "</style>\n",
              "\n",
              "  <script>\n",
              "    async function quickchart(key) {\n",
              "      const quickchartButtonEl =\n",
              "        document.querySelector('#' + key + ' button');\n",
              "      quickchartButtonEl.disabled = true;  // To prevent multiple clicks.\n",
              "      quickchartButtonEl.classList.add('colab-df-spinner');\n",
              "      try {\n",
              "        const charts = await google.colab.kernel.invokeFunction(\n",
              "            'suggestCharts', [key], {});\n",
              "      } catch (error) {\n",
              "        console.error('Error during call to suggestCharts:', error);\n",
              "      }\n",
              "      quickchartButtonEl.classList.remove('colab-df-spinner');\n",
              "      quickchartButtonEl.classList.add('colab-df-quickchart-complete');\n",
              "    }\n",
              "    (() => {\n",
              "      let quickchartButtonEl =\n",
              "        document.querySelector('#df-7d8a3f92-a6c7-46f1-b650-2be9fe913795 button');\n",
              "      quickchartButtonEl.style.display =\n",
              "        google.colab.kernel.accessAllowed ? 'block' : 'none';\n",
              "    })();\n",
              "  </script>\n",
              "</div>\n",
              "\n",
              "    </div>\n",
              "  </div>\n"
            ],
            "application/vnd.google.colaboratory.intrinsic+json": {
              "type": "dataframe",
              "variable_name": "data",
              "summary": "{\n  \"name\": \"data\",\n  \"rows\": 32207,\n  \"fields\": [\n    {\n      \"column\": \"DATE\",\n      \"properties\": {\n        \"dtype\": \"number\",\n        \"std\": 4553,\n        \"min\": 20160101,\n        \"max\": 20170716,\n        \"num_unique_values\": 563,\n        \"samples\": [\n          20170117,\n          20170507,\n          20170207\n        ],\n        \"semantic_type\": \"\",\n        \"description\": \"\"\n      }\n    },\n    {\n      \"column\": \"LATITUDE\",\n      \"properties\": {\n        \"dtype\": \"number\",\n        \"std\": 0.2103775325706322,\n        \"min\": 40.2754,\n        \"max\": 41.0835,\n        \"num_unique_values\": 79,\n        \"samples\": [\n          40.7524,\n          41.0639,\n          40.8305\n        ],\n        \"semantic_type\": \"\",\n        \"description\": \"\"\n      }\n    },\n    {\n      \"column\": \"LONGITUDE\",\n      \"properties\": {\n        \"dtype\": \"number\",\n        \"std\": 0.2501334801908409,\n        \"min\": -74.4827,\n        \"max\": -73.3722,\n        \"num_unique_values\": 82,\n        \"samples\": [\n          -74.1518,\n          -73.7722,\n          -74.4\n        ],\n        \"semantic_type\": \"\",\n        \"description\": \"\"\n      }\n    },\n    {\n      \"column\": \"SNOW\",\n      \"properties\": {\n        \"dtype\": \"number\",\n        \"std\": 4945.177190386928,\n        \"min\": -9999.0,\n        \"max\": 68.0,\n        \"num_unique_values\": 117,\n        \"samples\": [\n          5.0,\n          3.5,\n          19.0\n        ],\n        \"semantic_type\": \"\",\n        \"description\": \"\"\n      }\n    },\n    {\n      \"column\": \"PRCP\",\n      \"properties\": {\n        \"dtype\": \"number\",\n        \"std\": 643.6367864223619,\n        \"min\": -9999.0,\n        \"max\": 17.76,\n        \"num_unique_values\": 290,\n        \"samples\": [\n          0.59,\n          2.87,\n          0.04\n        ],\n        \"semantic_type\": \"\",\n        \"description\": \"\"\n      }\n    },\n    {\n      \"column\": \"SNWD\",\n      \"properties\": {\n        \"dtype\": \"number\",\n        \"std\": 4356.649665675505,\n        \"min\": -9999.0,\n        \"max\": 30.7,\n        \"num_unique_values\": 126,\n        \"samples\": [\n          0.9,\n          4.0,\n          11.5\n        ],\n        \"semantic_type\": \"\",\n        \"description\": \"\"\n      }\n    },\n    {\n      \"column\": \"TAVG\",\n      \"properties\": {\n        \"dtype\": \"number\",\n        \"std\": 2239,\n        \"min\": -9999,\n        \"max\": 91,\n        \"num_unique_values\": 76,\n        \"samples\": [\n          34,\n          63,\n          38\n        ],\n        \"semantic_type\": \"\",\n        \"description\": \"\"\n      }\n    },\n    {\n      \"column\": \"TMAX\",\n      \"properties\": {\n        \"dtype\": \"number\",\n        \"std\": 4153,\n        \"min\": -9999,\n        \"max\": 101,\n        \"num_unique_values\": 91,\n        \"samples\": [\n          64,\n          25,\n          90\n        ],\n        \"semantic_type\": \"\",\n        \"description\": \"\"\n      }\n    },\n    {\n      \"column\": \"TMIN\",\n      \"properties\": {\n        \"dtype\": \"number\",\n        \"std\": 4154,\n        \"min\": -9999,\n        \"max\": 84,\n        \"num_unique_values\": 88,\n        \"samples\": [\n          81,\n          -9999,\n          34\n        ],\n        \"semantic_type\": \"\",\n        \"description\": \"\"\n      }\n    }\n  ]\n}"
            }
          },
          "metadata": {},
          "execution_count": 5
        }
      ]
    },
    {
      "cell_type": "code",
      "source": [
        "data.info()"
      ],
      "metadata": {
        "colab": {
          "base_uri": "https://localhost:8080/"
        },
        "id": "pRqt4_Ha3IJ2",
        "outputId": "bf72b408-83a0-46c6-d28e-554de723ccb3"
      },
      "execution_count": 6,
      "outputs": [
        {
          "output_type": "stream",
          "name": "stdout",
          "text": [
            "<class 'pandas.core.frame.DataFrame'>\n",
            "RangeIndex: 32207 entries, 0 to 32206\n",
            "Data columns (total 9 columns):\n",
            " #   Column     Non-Null Count  Dtype  \n",
            "---  ------     --------------  -----  \n",
            " 0   DATE       32207 non-null  int64  \n",
            " 1   LATITUDE   32207 non-null  float64\n",
            " 2   LONGITUDE  32207 non-null  float64\n",
            " 3   SNOW       32207 non-null  float64\n",
            " 4   PRCP       32207 non-null  float64\n",
            " 5   SNWD       32207 non-null  float64\n",
            " 6   TAVG       32207 non-null  int64  \n",
            " 7   TMAX       32207 non-null  int64  \n",
            " 8   TMIN       32207 non-null  int64  \n",
            "dtypes: float64(5), int64(4)\n",
            "memory usage: 2.2 MB\n"
          ]
        }
      ]
    },
    {
      "cell_type": "code",
      "source": [
        "data[\"SNOW\"]= pd.to_numeric(data[\"SNOW\"], errors='coerce')\n",
        "data[\"PRCP\"]= pd.to_numeric(data[\"PRCP\"], errors='coerce')"
      ],
      "metadata": {
        "id": "pMyRBVx04tsW"
      },
      "execution_count": 8,
      "outputs": []
    },
    {
      "cell_type": "code",
      "source": [
        "snow_data_positive= data[data[\"SNOW\"]>0]"
      ],
      "metadata": {
        "id": "oSV6BVxp49TV"
      },
      "execution_count": 10,
      "outputs": []
    },
    {
      "cell_type": "code",
      "source": [
        "min_snow= data[\"SNOW\"].min()\n",
        "print(min_snow)"
      ],
      "metadata": {
        "colab": {
          "base_uri": "https://localhost:8080/"
        },
        "id": "dQV-Z0795G_R",
        "outputId": "bf031af4-19e5-4d6c-eb58-7658d09e5c82"
      },
      "execution_count": 11,
      "outputs": [
        {
          "output_type": "stream",
          "name": "stdout",
          "text": [
            "-9999.0\n"
          ]
        }
      ]
    },
    {
      "cell_type": "code",
      "source": [
        "max_snow_per_location= snow_data_positive.loc[snow_data_positive.groupby([\"LATITUDE\", \"LONGITUDE\"])[\"SNOW\"].idxmax()]\n",
        "print(\"\\n snow depth in inches per location:\")\n",
        "\n",
        "for index, row in max_snow_per_location.iterrows():\n",
        "    print(f\"Latitude: {row['LATITUDE']}, Longitude: {row['LONGITUDE']}, Snow Depth: {row['SNOW']}\")\n",
        "\n",
        "#lat , long to geolocator\n",
        "\n",
        "geolocator= Nominatim(user_agent=\"snow_depth_map\")\n",
        "top_3_snow_locations= max_snow_per_location.nlargest(3, 'SNOW')\n",
        "print(\"\\n Top 3 snow depth locations:\")\n",
        "for index, row in top_3_snow_locations.iterrows():\n",
        "    location= geolocator.reverse((row['LATITUDE'], row['LONGITUDE']) ,exactly_one=True)\n",
        "    address= location.address if location else \"Address not found\"\n",
        "    print(f\"Latitude: {row['LATITUDE']},  Longitude: {row['LONGITUDE']} ,address: {address},  Snow Depth: {row['SNOW']}\")"
      ],
      "metadata": {
        "colab": {
          "base_uri": "https://localhost:8080/"
        },
        "id": "2ev7g7BU5e2F",
        "outputId": "b2bd5a09-ce15-4db1-ca48-19524094381f"
      },
      "execution_count": 13,
      "outputs": [
        {
          "output_type": "stream",
          "name": "stdout",
          "text": [
            "\n",
            " snow depth in inches per location:\n",
            "Latitude: 40.2754, Longitude: -74.006, Snow Depth: 10.0\n",
            "Latitude: 40.297, Longitude: -74.0015, Snow Depth: 11.0\n",
            "Latitude: 40.3204, Longitude: -74.1927, Snow Depth: 11.5\n",
            "Latitude: 40.3622, Longitude: -74.0833, Snow Depth: 12.0\n",
            "Latitude: 40.3671, Longitude: -73.9979, Snow Depth: 15.5\n",
            "Latitude: 40.4057, Longitude: -74.2549, Snow Depth: 3.8\n",
            "Latitude: 40.4562, Longitude: -74.2413, Snow Depth: 13.0\n",
            "Latitude: 40.4739, Longitude: -74.4, Snow Depth: 1.7\n",
            "Latitude: 40.5421, Longitude: -74.1476, Snow Depth: 5.0\n",
            "Latitude: 40.5554, Longitude: -74.274, Snow Depth: 12.0\n",
            "Latitude: 40.5674, Longitude: -74.1327, Snow Depth: 19.5\n",
            "Latitude: 40.5759, Longitude: -74.2847, Snow Depth: 20.1\n",
            "Latitude: 40.6386, Longitude: -73.7622, Snow Depth: 8.3\n",
            "Latitude: 40.63861, Longitude: -73.76222, Snow Depth: 30.3\n",
            "Latitude: 40.6588, Longitude: -74.3358, Snow Depth: 8.5\n",
            "Latitude: 40.6623, Longitude: -73.678, Snow Depth: 17.3\n",
            "Latitude: 40.66694, Longitude: -74.32306, Snow Depth: 3.0\n",
            "Latitude: 40.6722, Longitude: -74.3096, Snow Depth: 19.0\n",
            "Latitude: 40.6825, Longitude: -74.16944, Snow Depth: 24.0\n",
            "Latitude: 40.6825, Longitude: -74.1694, Snow Depth: 7.8\n",
            "Latitude: 40.6846, Longitude: -73.9867, Snow Depth: 8.0\n",
            "Latitude: 40.6945, Longitude: -74.3898, Snow Depth: 11.5\n",
            "Latitude: 40.7145, Longitude: -73.8819, Snow Depth: 22.2\n",
            "Latitude: 40.723, Longitude: -73.711, Snow Depth: 18.0\n",
            "Latitude: 40.7237, Longitude: -74.2598, Snow Depth: 10.0\n",
            "Latitude: 40.7279, Longitude: -73.4341, Snow Depth: 11.8\n",
            "Latitude: 40.7436, Longitude: -74.3539, Snow Depth: 8.1\n",
            "Latitude: 40.748, Longitude: -74.1518, Snow Depth: 5.5\n",
            "Latitude: 40.7481, Longitude: -74.3908, Snow Depth: 21.0\n",
            "Latitude: 40.7481, Longitude: -74.152, Snow Depth: 19.5\n",
            "Latitude: 40.7524, Longitude: -74.4297, Snow Depth: 20.0\n",
            "Latitude: 40.7729, Longitude: -74.1409, Snow Depth: 26.5\n",
            "Latitude: 40.778, Longitude: -74.3992, Snow Depth: 11.0\n",
            "Latitude: 40.77889, Longitude: -73.96917, Snow Depth: 27.3\n",
            "Latitude: 40.7792, Longitude: -73.88, Snow Depth: 10.0\n",
            "Latitude: 40.77944, Longitude: -73.88028, Snow Depth: 27.9\n",
            "Latitude: 40.785, Longitude: -74.1885, Snow Depth: 12.4\n",
            "Latitude: 40.7889, Longitude: -73.9669, Snow Depth: 9.4\n",
            "Latitude: 40.7915, Longitude: -74.1398, Snow Depth: 9.5\n",
            "Latitude: 40.7924, Longitude: -74.4546, Snow Depth: 0.5\n",
            "Latitude: 40.8481, Longitude: -74.0002, Snow Depth: 12.4\n",
            "Latitude: 40.85, Longitude: -74.06139, Snow Depth: 68.0\n",
            "Latitude: 40.8557, Longitude: -74.2356, Snow Depth: 21.9\n",
            "Latitude: 40.8615, Longitude: -74.2775, Snow Depth: 5.5\n",
            "Latitude: 40.8796, Longitude: -74.227, Snow Depth: 13.5\n",
            "Latitude: 40.8838, Longitude: -73.3722, Snow Depth: 18.0\n",
            "Latitude: 40.8917, Longitude: -74.3962, Snow Depth: 1.5\n",
            "Latitude: 40.9005, Longitude: -74.4164, Snow Depth: 3.2\n",
            "Latitude: 40.9027, Longitude: -74.0834, Snow Depth: 10.0\n",
            "Latitude: 40.9096, Longitude: -74.4141, Snow Depth: 22.6\n",
            "Latitude: 40.9147, Longitude: -73.9775, Snow Depth: 16.6\n",
            "Latitude: 40.9369, Longitude: -74.2515, Snow Depth: 2.5\n",
            "Latitude: 40.9436, Longitude: -74.1523, Snow Depth: 13.9\n",
            "Latitude: 40.9511, Longitude: -74.1183, Snow Depth: 9.4\n",
            "Latitude: 40.9519, Longitude: -74.1577, Snow Depth: 13.8\n",
            "Latitude: 40.9614, Longitude: -74.1328, Snow Depth: 4.5\n",
            "Latitude: 41.0191, Longitude: -74.2334, Snow Depth: 15.3\n",
            "Latitude: 41.0202, Longitude: -74.3289, Snow Depth: 12.0\n",
            "Latitude: 41.0328, Longitude: -74.245, Snow Depth: 16.2\n",
            "Latitude: 41.0444, Longitude: -74.2933, Snow Depth: 24.0\n",
            "Latitude: 41.0639, Longitude: -73.7722, Snow Depth: 0.5\n",
            "Latitude: 41.0835, Longitude: -73.993, Snow Depth: 19.5\n",
            "\n",
            " Top 3 snow depth locations:\n",
            "Latitude: 40.85,  Longitude: -74.06139 ,address: Teterboro Airport, Catherine Street, Teterboro, Bergen County, New Jersey, 07608, United States,  Snow Depth: 68.0\n",
            "Latitude: 40.63861,  Longitude: -73.76222 ,address: Eastern Road, Queens, Queens County, City of New York, New York, 11430, United States,  Snow Depth: 30.3\n",
            "Latitude: 40.77944,  Longitude: -73.88028 ,address: Bowery Bay Boulevard, Queens, Queens County, City of New York, New York, 11371, United States,  Snow Depth: 27.9\n"
          ]
        }
      ]
    },
    {
      "cell_type": "code",
      "source": [
        "heat_data =max_snow_per_location[[\"LATITUDE\" ,\"LONGITUDE\", \"SNOW\"]].values.tolist()\n",
        "map_center= [40.7128, -74.0060]\n",
        "map_nyc= folium.Map(location=map_center, zoom_start=11)\n",
        "HeatMap(heat_data ,radius=45).add_to(map_nyc)\n",
        "map_nyc.save(\"snow_depth_map.html\")\n",
        "map_nyc"
      ],
      "metadata": {
        "colab": {
          "base_uri": "https://localhost:8080/",
          "height": 641
        },
        "id": "rXukm5wd5e40",
        "outputId": "aa8ccadc-9c94-4bbf-83e4-2b27019f6774"
      },
      "execution_count": 17,
      "outputs": [
        {
          "output_type": "execute_result",
          "data": {
            "text/plain": [
              "<folium.folium.Map at 0x79c1baefea10>"
            ],
            "text/html": [
              "<div style=\"width:100%;\"><div style=\"position:relative;width:100%;height:0;padding-bottom:60%;\"><span style=\"color:#565656\">Make this Notebook Trusted to load map: File -> Trust Notebook</span><iframe srcdoc=\"&lt;!DOCTYPE html&gt;\n",
              "&lt;html&gt;\n",
              "&lt;head&gt;\n",
              "    \n",
              "    &lt;meta http-equiv=&quot;content-type&quot; content=&quot;text/html; charset=UTF-8&quot; /&gt;\n",
              "    \n",
              "        &lt;script&gt;\n",
              "            L_NO_TOUCH = false;\n",
              "            L_DISABLE_3D = false;\n",
              "        &lt;/script&gt;\n",
              "    \n",
              "    &lt;style&gt;html, body {width: 100%;height: 100%;margin: 0;padding: 0;}&lt;/style&gt;\n",
              "    &lt;style&gt;#map {position:absolute;top:0;bottom:0;right:0;left:0;}&lt;/style&gt;\n",
              "    &lt;script src=&quot;https://cdn.jsdelivr.net/npm/leaflet@1.9.3/dist/leaflet.js&quot;&gt;&lt;/script&gt;\n",
              "    &lt;script src=&quot;https://code.jquery.com/jquery-3.7.1.min.js&quot;&gt;&lt;/script&gt;\n",
              "    &lt;script src=&quot;https://cdn.jsdelivr.net/npm/bootstrap@5.2.2/dist/js/bootstrap.bundle.min.js&quot;&gt;&lt;/script&gt;\n",
              "    &lt;script src=&quot;https://cdnjs.cloudflare.com/ajax/libs/Leaflet.awesome-markers/2.0.2/leaflet.awesome-markers.js&quot;&gt;&lt;/script&gt;\n",
              "    &lt;link rel=&quot;stylesheet&quot; href=&quot;https://cdn.jsdelivr.net/npm/leaflet@1.9.3/dist/leaflet.css&quot;/&gt;\n",
              "    &lt;link rel=&quot;stylesheet&quot; href=&quot;https://cdn.jsdelivr.net/npm/bootstrap@5.2.2/dist/css/bootstrap.min.css&quot;/&gt;\n",
              "    &lt;link rel=&quot;stylesheet&quot; href=&quot;https://netdna.bootstrapcdn.com/bootstrap/3.0.0/css/bootstrap-glyphicons.css&quot;/&gt;\n",
              "    &lt;link rel=&quot;stylesheet&quot; href=&quot;https://cdn.jsdelivr.net/npm/@fortawesome/fontawesome-free@6.2.0/css/all.min.css&quot;/&gt;\n",
              "    &lt;link rel=&quot;stylesheet&quot; href=&quot;https://cdnjs.cloudflare.com/ajax/libs/Leaflet.awesome-markers/2.0.2/leaflet.awesome-markers.css&quot;/&gt;\n",
              "    &lt;link rel=&quot;stylesheet&quot; href=&quot;https://cdn.jsdelivr.net/gh/python-visualization/folium/folium/templates/leaflet.awesome.rotate.min.css&quot;/&gt;\n",
              "    \n",
              "            &lt;meta name=&quot;viewport&quot; content=&quot;width=device-width,\n",
              "                initial-scale=1.0, maximum-scale=1.0, user-scalable=no&quot; /&gt;\n",
              "            &lt;style&gt;\n",
              "                #map_c9ce585ffe663a8c0714c89acd4def30 {\n",
              "                    position: relative;\n",
              "                    width: 100.0%;\n",
              "                    height: 100.0%;\n",
              "                    left: 0.0%;\n",
              "                    top: 0.0%;\n",
              "                }\n",
              "                .leaflet-container { font-size: 1rem; }\n",
              "            &lt;/style&gt;\n",
              "        \n",
              "    &lt;script src=&quot;https://cdn.jsdelivr.net/gh/python-visualization/folium@main/folium/templates/leaflet_heat.min.js&quot;&gt;&lt;/script&gt;\n",
              "&lt;/head&gt;\n",
              "&lt;body&gt;\n",
              "    \n",
              "    \n",
              "            &lt;div class=&quot;folium-map&quot; id=&quot;map_c9ce585ffe663a8c0714c89acd4def30&quot; &gt;&lt;/div&gt;\n",
              "        \n",
              "&lt;/body&gt;\n",
              "&lt;script&gt;\n",
              "    \n",
              "    \n",
              "            var map_c9ce585ffe663a8c0714c89acd4def30 = L.map(\n",
              "                &quot;map_c9ce585ffe663a8c0714c89acd4def30&quot;,\n",
              "                {\n",
              "                    center: [40.7128, -74.006],\n",
              "                    crs: L.CRS.EPSG3857,\n",
              "                    zoom: 11,\n",
              "                    zoomControl: true,\n",
              "                    preferCanvas: false,\n",
              "                }\n",
              "            );\n",
              "\n",
              "            \n",
              "\n",
              "        \n",
              "    \n",
              "            var tile_layer_7dfe311d4245410c856e195b7d18227b = L.tileLayer(\n",
              "                &quot;https://tile.openstreetmap.org/{z}/{x}/{y}.png&quot;,\n",
              "                {&quot;attribution&quot;: &quot;\\u0026copy; \\u003ca href=\\&quot;https://www.openstreetmap.org/copyright\\&quot;\\u003eOpenStreetMap\\u003c/a\\u003e contributors&quot;, &quot;detectRetina&quot;: false, &quot;maxNativeZoom&quot;: 19, &quot;maxZoom&quot;: 19, &quot;minZoom&quot;: 0, &quot;noWrap&quot;: false, &quot;opacity&quot;: 1, &quot;subdomains&quot;: &quot;abc&quot;, &quot;tms&quot;: false}\n",
              "            );\n",
              "        \n",
              "    \n",
              "            tile_layer_7dfe311d4245410c856e195b7d18227b.addTo(map_c9ce585ffe663a8c0714c89acd4def30);\n",
              "        \n",
              "    \n",
              "            var heat_map_aaa71393b42692e94840de31e53be274 = L.heatLayer(\n",
              "                [[40.2754, -74.006, 10.0], [40.297, -74.0015, 11.0], [40.3204, -74.1927, 11.5], [40.3622, -74.0833, 12.0], [40.3671, -73.9979, 15.5], [40.4057, -74.2549, 3.8], [40.4562, -74.2413, 13.0], [40.4739, -74.4, 1.7], [40.5421, -74.1476, 5.0], [40.5554, -74.274, 12.0], [40.5674, -74.1327, 19.5], [40.5759, -74.2847, 20.1], [40.6386, -73.7622, 8.3], [40.63861, -73.76222, 30.3], [40.6588, -74.3358, 8.5], [40.6623, -73.678, 17.3], [40.66694, -74.32306, 3.0], [40.6722, -74.3096, 19.0], [40.6825, -74.16944, 24.0], [40.6825, -74.1694, 7.8], [40.6846, -73.9867, 8.0], [40.6945, -74.3898, 11.5], [40.7145, -73.8819, 22.2], [40.723, -73.711, 18.0], [40.7237, -74.2598, 10.0], [40.7279, -73.4341, 11.8], [40.7436, -74.3539, 8.1], [40.748, -74.1518, 5.5], [40.7481, -74.3908, 21.0], [40.7481, -74.152, 19.5], [40.7524, -74.4297, 20.0], [40.7729, -74.1409, 26.5], [40.778, -74.3992, 11.0], [40.77889, -73.96917, 27.3], [40.7792, -73.88, 10.0], [40.77944, -73.88028, 27.9], [40.785, -74.1885, 12.4], [40.7889, -73.9669, 9.4], [40.7915, -74.1398, 9.5], [40.7924, -74.4546, 0.5], [40.8481, -74.0002, 12.4], [40.85, -74.06139, 68.0], [40.8557, -74.2356, 21.9], [40.8615, -74.2775, 5.5], [40.8796, -74.227, 13.5], [40.8838, -73.3722, 18.0], [40.8917, -74.3962, 1.5], [40.9005, -74.4164, 3.2], [40.9027, -74.0834, 10.0], [40.9096, -74.4141, 22.6], [40.9147, -73.9775, 16.6], [40.9369, -74.2515, 2.5], [40.9436, -74.1523, 13.9], [40.9511, -74.1183, 9.4], [40.9519, -74.1577, 13.8], [40.9614, -74.1328, 4.5], [41.0191, -74.2334, 15.3], [41.0202, -74.3289, 12.0], [41.0328, -74.245, 16.2], [41.0444, -74.2933, 24.0], [41.0639, -73.7722, 0.5], [41.0835, -73.993, 19.5]],\n",
              "                {&quot;blur&quot;: 15, &quot;maxZoom&quot;: 18, &quot;minOpacity&quot;: 0.5, &quot;radius&quot;: 45}\n",
              "            );\n",
              "        \n",
              "    \n",
              "            heat_map_aaa71393b42692e94840de31e53be274.addTo(map_c9ce585ffe663a8c0714c89acd4def30);\n",
              "        \n",
              "    \n",
              "            tile_layer_7dfe311d4245410c856e195b7d18227b.addTo(map_c9ce585ffe663a8c0714c89acd4def30);\n",
              "        \n",
              "    \n",
              "            heat_map_aaa71393b42692e94840de31e53be274.addTo(map_c9ce585ffe663a8c0714c89acd4def30);\n",
              "        \n",
              "&lt;/script&gt;\n",
              "&lt;/html&gt;\" style=\"position:absolute;width:100%;height:100%;left:0;top:0;border:none !important;\" allowfullscreen webkitallowfullscreen mozallowfullscreen></iframe></div></div>"
            ]
          },
          "metadata": {},
          "execution_count": 17
        }
      ]
    },
    {
      "cell_type": "code",
      "source": [],
      "metadata": {
        "id": "2BUMrg895e8y"
      },
      "execution_count": null,
      "outputs": []
    },
    {
      "cell_type": "code",
      "source": [],
      "metadata": {
        "id": "dkfE6cjM5fAa"
      },
      "execution_count": null,
      "outputs": []
    },
    {
      "cell_type": "code",
      "source": [],
      "metadata": {
        "id": "wJ_KBsBX5fDA"
      },
      "execution_count": null,
      "outputs": []
    },
    {
      "cell_type": "code",
      "source": [],
      "metadata": {
        "id": "7_YHhF_h5fFU"
      },
      "execution_count": null,
      "outputs": []
    },
    {
      "cell_type": "code",
      "source": [],
      "metadata": {
        "id": "Gn5wAFq35fIC"
      },
      "execution_count": null,
      "outputs": []
    },
    {
      "cell_type": "code",
      "source": [],
      "metadata": {
        "id": "iZW3Zq2P5fKZ"
      },
      "execution_count": null,
      "outputs": []
    },
    {
      "cell_type": "code",
      "source": [],
      "metadata": {
        "id": "B3IoksXV5fMp"
      },
      "execution_count": null,
      "outputs": []
    }
  ]
}